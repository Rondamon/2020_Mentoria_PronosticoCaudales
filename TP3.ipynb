{
 "cells": [
  {
   "cell_type": "markdown",
   "metadata": {},
   "source": [
    "## TP3: Introducción al aprendizaje automático"
   ]
  },
  {
   "cell_type": "markdown",
   "metadata": {},
   "source": [
    "De los datasets analizados en los TPs anteriores, nos vamos a enfocar en:\n",
    "\n",
    "- \"APRHi - Sta Rosa de Calamuchita\".\n",
    "\n",
    "Y vamos a usar el dataset con *time-step* de 30min que obtuvieron en el punto 4 del TP2.\n",
    "\n",
    "Además, como variable que queremos predecir vamos a usar el Caudal.\n",
    "\n",
    "Recuerden que las demás variables (como viento, temperatura, lluvia, etc) las vamos a resumir cada media hora (a todas las vamos a **promediar**, salvo a la lluvia que la vamos a **acumular** (sumar))."
   ]
  },
  {
   "cell_type": "markdown",
   "metadata": {},
   "source": [
    "##### Actividades:\n",
    "\n",
    "##### OBJETIVO: Predecir Caudal para las próximas 6 horas."
   ]
  },
  {
   "cell_type": "markdown",
   "metadata": {},
   "source": [
    "1) De los dataset que han trabajado hasta ahora, agreguen más features al DataFrame **\"APRHi - Sta Rosa de Calamuchita\"** (Por lo general, más features tienden a dar mejores predicciones).\n",
    "\n",
    "2) Además de las features del punto anterior, les propongo agregar nuevas features moviendo las originales tantos \"pasos de tiempo\" como features nuevas quieran generar.\n",
    "\n",
    "3) Curar el dataset (si fuera necesario).\n",
    "\n",
    "4) Aplicar técnicas de selección y extraccion de features. Armar un nuevo dataset con aquellas features más significativas.\n",
    "\n",
    "5) Dividir el dataset (training, validation, test).. Recuerden que queremos predecir Caudal para las próximas 6 horas.\n",
    "\n",
    "6) Analizar y elegir 3 modelos para REGRESIÓN. Entrenarlos y analizar resultados.\n",
    "\n",
    "7) Evaluar predicciones de los diferentes modelos.\n",
    "\n",
    "8) ¿Qué estadísticos utilizaron para evaluar las regresiones? Justifiquen su elección."
   ]
  },
  {
   "cell_type": "code",
   "execution_count": null,
   "metadata": {},
   "outputs": [],
   "source": []
  }
 ],
 "metadata": {
  "kernelspec": {
   "display_name": "Python 3",
   "language": "python",
   "name": "python3"
  },
  "language_info": {
   "codemirror_mode": {
    "name": "ipython",
    "version": 3
   },
   "file_extension": ".py",
   "mimetype": "text/x-python",
   "name": "python",
   "nbconvert_exporter": "python",
   "pygments_lexer": "ipython3",
   "version": "3.7.1"
  }
 },
 "nbformat": 4,
 "nbformat_minor": 2
}
