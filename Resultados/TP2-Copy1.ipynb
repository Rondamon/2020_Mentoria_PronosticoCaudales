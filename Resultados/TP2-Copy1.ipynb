{
 "cells": [
  {
   "cell_type": "markdown",
   "metadata": {},
   "source": [
    "## CONSIGNA TP2:\n",
    "\n",
    "## 1. Análisis y curación de datos de una API - formato JSON\n",
    "\n",
    "Referencias: https://darksky.net/dev/docs\n",
    "\n",
    "  1. Extraer los datos para la localidad Santa Rosa de Calamuchita para el período 1/Mayo/2018 al 01/Mayo/2020.\n",
    "  2. ¿Existen valores faltantes? Cuantificarlos.\n",
    "  3. Generar un nuevo dataset a partir de los datos (time, summary, precipAccumulation, temperature, humidity, pressure, windSpeed, uvIndex, temperatureMin, temperatureMax.\n",
    "  4. Hacer las conversiones de unidades necesarias a estos datos para poder compararlos con \"APRHi - Sta Rosa de Calamuchita\".\n",
    "  5. Comparar los estadísticos de estos datasets con los de \"APRHi - Sta Rosa de Calamuchita\".\n",
    "\n",
    "\n",
    "## 2. Análisis y curación de datos Scrapeados de WeatherUnderground\n",
    "\n",
    "Referencias: https://www.wunderground.com/\n",
    "\n",
    "  1. Extraer los datos para la estación meteorológica personal (PWS, por siglas en inglés) \"ICALAMUC5\" (en Villa General Belgrano), para el período 1/Mayo/2018 al 01/Mayo/2020 mediante el Scrappeo de WeatherUnderground (WU).\n",
    "  2. ¿Existen valores faltantes? Cuantificarlos.\n",
    "  3. Convertir los datos faltantes en NaN.\n",
    "  4. Hacer las conversiones de unidades necesarias a estos datos para poder compararlos con \"APRHi - Sta Rosa de Calamuchita\".\n",
    "  5. Comparar los estadísticos de este dataset con los de \"APRHi - Sta Rosa de Calamuchita\".\n",
    "\n",
    "\n",
    "## 3. Análisis y curación de datos de un Excel y un TXT\n",
    "\n",
    "Referencias GLDAS: https://ldas.gsfc.nasa.gov/gldas\n",
    "Referencias IMERG: https://disasters.nasa.gov/instruments/imerg\n",
    "\n",
    "  1. Leer los datos de GLDAS_SantaRosa.xlsx para el período 1/Mayo/2018 al 31/Abril/2020.\n",
    "  2. Leer los datos de IMERG_SantaRosa.txt para el período 1/Mayo/2018 al 31/Abril/2020.\n",
    "  3. Hacer las conversiones de unidades necesarias a GLDAS para poder compararlos con \"APRHi - Sta Rosa de Calamuchita\".\n",
    "  4. Comparar los estadísticos de estos datasets con los de \"APRHi - Sta Rosa de Calamuchita\".\n",
    "  \n",
    "  \n",
    "## 4. Rellenar datos faltantes\n",
    "  1. ¿De todos los datasets comparados, para cada variable cuál se parece más a los de \"APRHi - Sta Rosa de Calamuchita\"?\n",
    "  2. Acumular las lluvias y promediar las demás variables de \"APRHi - Sta Rosa de Calamuchita\" cada 30 minutos.\n",
    "  3. Interpolar los datos ya procesados de las mejores fuentes de información \"alternativas\" (salvo las lluvias), cada 30 minutos.\n",
    "  4. Hacer lo mismo que en el punto anterior pero para la mejor fuente \"alternativa\" de lluvias, dividiendo por el número de \"time-steps\" equivalentes para llevar a cada dato a 30 minutos. (HINT: si la mejor es IMERG, no hacer nada ;D).\n",
    "  5. Interpolar el dataset \"APRHi - Sta Rosa de Calamuchita\" para rellenar los huecos.\n",
    "  6. Por otro lado, utilizar lo hecho en los punto 3 y 4 para rellenar los datos faltantes en la estación de \"APRHi - Sta Rosa de Calamuchita\".\n",
    "  7. Exportar los dos datasets nuevos en formato csv.\n"
   ]
  },
  {
   "cell_type": "markdown",
   "metadata": {},
   "source": [
    "## 1. Análisis y curación de datos de una API - formato JSON\n",
    "\n",
    "Referencias: https://darksky.net/dev/docs\n",
    "\n",
    "  1. Extraer los datos para la localidad Santa Rosa de Calamuchita para el período 1/Mayo/2018 al 01/Mayo/2020.\n",
    "  2. ¿Existen valores faltantes? Cuantificarlos.\n",
    "  3. Generar un nuevo dataset a partir de los datos (time, summary, precipAccumulation, temperature, humidity, pressure, windSpeed, uvIndex, temperatureMin, temperatureMax.\n",
    "  4. Hacer las conversiones de unidades necesarias a estos datos para poder compararlos con \"APRHi - Sta Rosa de Calamuchita\".\n",
    "  5. Comparar los estadísticos de estos datasets con los de \"APRHi - Sta Rosa de Calamuchita\".rte 1"
   ]
  },
  {
   "cell_type": "code",
   "execution_count": 2,
   "metadata": {
    "ExecuteTime": {
     "end_time": "2020-09-24T02:09:58.432546Z",
     "start_time": "2020-09-24T02:09:58.426184Z"
    }
   },
   "outputs": [],
   "source": [
    "import datetime\n",
    "import requests\n",
    "import pandas as pd\n",
    "import json\n",
    "from pandas import json_normalize\n",
    "import matplotlib.pyplot as plt\n",
    "import seaborn as sns"
   ]
  },
  {
   "cell_type": "code",
   "execution_count": null,
   "metadata": {
    "ExecuteTime": {
     "end_time": "2020-09-24T02:09:35.263840Z",
     "start_time": "2020-09-24T02:09:35.260714Z"
    }
   },
   "outputs": [],
   "source": [
    "# This function returns a list of date between to boundaries. Source: https://stackoverflow.com/questions/1060279/iterating-through-a-range-of-dates-in-python\n",
    "def daterange(start_date, end_date):\n",
    "    for n in range(int ((end_date - start_date).days)):\n",
    "        yield start_date + datetime.timedelta(n)"
   ]
  },
  {
   "cell_type": "code",
   "execution_count": null,
   "metadata": {
    "ExecuteTime": {
     "end_time": "2020-09-24T02:09:35.276492Z",
     "start_time": "2020-09-24T02:09:35.265372Z"
    }
   },
   "outputs": [],
   "source": [
    "baseUrl = \"https://api.darksky.net/forecast/<key>/<longitude>,<latitude>,<date>?exclude=flags,hourly&units=ca\""
   ]
  },
  {
   "cell_type": "code",
   "execution_count": null,
   "metadata": {
    "ExecuteTime": {
     "start_time": "2020-09-24T02:09:41.183Z"
    }
   },
   "outputs": [],
   "source": [
    "\"\"\"\n",
    "En este bloque se descarga la data y se la escribe en un archivo.\n",
    "OJO! Cada vez que se ejecuta la funcion se sobre escribe el archivo con la data scrapeada.\n",
    "\"\"\"\n",
    "\n",
    "start_date = datetime.datetime(2018, 5, 1)\n",
    "end_date = datetime.datetime(2020, 5, 1)\n",
    "\n",
    "data = []\n",
    "for date in daterange(start_date, end_date):\n",
    "    tmstmp = str(int(date.timestamp()))\n",
    "    replacedUrl = baseUrl.replace(\"<key>\", \"9349598e9f11f5eddceb6791daa6d787\").replace(\"<longitude>\", \"-64.533333\").replace(\"<latitude>\", \"-32.066667\").replace(\"<date>\",tmstmp)\n",
    "    r = requests.get(url = replacedUrl)\n",
    "    # json with day data\n",
    "    partial_data = r.json()\n",
    "    data.append(partial_data)\n",
    "# writing json\n",
    "with open('sta_rosa_scraped.json', 'w', encoding='utf-8') as f:\n",
    "    json.dump(data, f, ensure_ascii=False, indent=4)"
   ]
  },
  {
   "cell_type": "code",
   "execution_count": null,
   "metadata": {
    "ExecuteTime": {
     "start_time": "2020-09-24T02:09:41.428Z"
    }
   },
   "outputs": [],
   "source": [
    "with open('sta_rosa_scraped.json') as f:\n",
    "    data = json.load(f)"
   ]
  },
  {
   "cell_type": "code",
   "execution_count": null,
   "metadata": {
    "ExecuteTime": {
     "start_time": "2020-09-24T02:09:42.023Z"
    }
   },
   "outputs": [],
   "source": [
    "flatten_json = pd.json_normalize(data) # esta linea en teoria devuelve el json desanidado\n",
    "flatten_json # pero como se ve toda la data anidada en la llave daily queda comprimida en daily.data."
   ]
  },
  {
   "cell_type": "code",
   "execution_count": null,
   "metadata": {
    "ExecuteTime": {
     "start_time": "2020-09-24T02:09:42.468Z"
    }
   },
   "outputs": [],
   "source": [
    "# identificar a partir de que fecha hay informacion, y luego descartar la informacion vacia\n",
    "\n",
    "for n,dat in enumerate(data):\n",
    "    try:\n",
    "        if data[n]['daily']:\n",
    "            print(n)\n",
    "        break\n",
    "    except KeyError:\n",
    "        continue"
   ]
  },
  {
   "cell_type": "code",
   "execution_count": null,
   "metadata": {
    "ExecuteTime": {
     "start_time": "2020-09-24T02:09:42.887Z"
    }
   },
   "outputs": [],
   "source": [
    "cleaned_json = data[236::]\n",
    "flatten_json = pd.json_normalize(cleaned_json, ['daily', 'data'])\n",
    "flatten_json.columns"
   ]
  },
  {
   "cell_type": "code",
   "execution_count": null,
   "metadata": {
    "ExecuteTime": {
     "end_time": "2020-09-18T21:10:49.397632Z",
     "start_time": "2020-09-18T21:10:49.385627Z"
    }
   },
   "outputs": [],
   "source": [
    "df = flatten_json[['time',\n",
    "                   'summary',\n",
    "                   'precipAccumulation',\n",
    "                   'humidity',\n",
    "                   'pressure',\n",
    "                   'windSpeed',\n",
    "                   'uvIndex',\n",
    "                   'temperatureMax']]"
   ]
  },
  {
   "cell_type": "code",
   "execution_count": null,
   "metadata": {
    "ExecuteTime": {
     "end_time": "2020-09-18T21:10:54.231986Z",
     "start_time": "2020-09-18T21:10:54.224969Z"
    }
   },
   "outputs": [],
   "source": [
    "df['time'] = df['time'].apply(lambda x: datetime.datetime.fromtimestamp(x))"
   ]
  },
  {
   "cell_type": "code",
   "execution_count": null,
   "metadata": {
    "ExecuteTime": {
     "end_time": "2020-09-18T21:10:54.526297Z",
     "start_time": "2020-09-18T21:10:54.519102Z"
    }
   },
   "outputs": [],
   "source": [
    "df['humidity'] = df['humidity'].apply(lambda x: x * 100)"
   ]
  },
  {
   "cell_type": "code",
   "execution_count": null,
   "metadata": {
    "ExecuteTime": {
     "end_time": "2020-09-18T21:10:54.678623Z",
     "start_time": "2020-09-18T21:10:54.662460Z"
    }
   },
   "outputs": [],
   "source": [
    "df.set_index('time').head()"
   ]
  },
  {
   "cell_type": "code",
   "execution_count": null,
   "metadata": {
    "ExecuteTime": {
     "end_time": "2020-09-18T21:11:00.406897Z",
     "start_time": "2020-09-18T21:11:00.389783Z"
    }
   },
   "outputs": [],
   "source": [
    "df.to_csv('scrapped_sta_rosa_dark_sky.csv',index=False)"
   ]
  },
  {
   "cell_type": "code",
   "execution_count": 3,
   "metadata": {
    "ExecuteTime": {
     "end_time": "2020-09-24T02:10:08.839521Z",
     "start_time": "2020-09-24T02:10:08.813290Z"
    }
   },
   "outputs": [],
   "source": [
    "sta_rosa_dark_sky = pd.read_csv('scrapped_sta_rosa_dark_sky.csv', parse_dates=True, index_col='time')"
   ]
  },
  {
   "cell_type": "code",
   "execution_count": 4,
   "metadata": {
    "ExecuteTime": {
     "end_time": "2020-09-24T02:10:11.243538Z",
     "start_time": "2020-09-24T02:10:11.214270Z"
    }
   },
   "outputs": [
    {
     "data": {
      "text/html": [
       "<div>\n",
       "<style scoped>\n",
       "    .dataframe tbody tr th:only-of-type {\n",
       "        vertical-align: middle;\n",
       "    }\n",
       "\n",
       "    .dataframe tbody tr th {\n",
       "        vertical-align: top;\n",
       "    }\n",
       "\n",
       "    .dataframe thead th {\n",
       "        text-align: right;\n",
       "    }\n",
       "</style>\n",
       "<table border=\"1\" class=\"dataframe\">\n",
       "  <thead>\n",
       "    <tr style=\"text-align: right;\">\n",
       "      <th></th>\n",
       "      <th>summary</th>\n",
       "      <th>precipAccumulation</th>\n",
       "      <th>humidity</th>\n",
       "      <th>pressure</th>\n",
       "      <th>windSpeed</th>\n",
       "      <th>uvIndex</th>\n",
       "      <th>temperatureMax</th>\n",
       "    </tr>\n",
       "    <tr>\n",
       "      <th>time</th>\n",
       "      <th></th>\n",
       "      <th></th>\n",
       "      <th></th>\n",
       "      <th></th>\n",
       "      <th></th>\n",
       "      <th></th>\n",
       "      <th></th>\n",
       "    </tr>\n",
       "  </thead>\n",
       "  <tbody>\n",
       "    <tr>\n",
       "      <th>2018-12-22 23:00:00</th>\n",
       "      <td>Partly cloudy throughout the day.</td>\n",
       "      <td>0.1</td>\n",
       "      <td>58.0</td>\n",
       "      <td>994.9</td>\n",
       "      <td>8.61</td>\n",
       "      <td>4</td>\n",
       "      <td>0.02</td>\n",
       "    </tr>\n",
       "    <tr>\n",
       "      <th>2018-12-23 23:00:00</th>\n",
       "      <td>Partly cloudy throughout the day.</td>\n",
       "      <td>0.2</td>\n",
       "      <td>61.0</td>\n",
       "      <td>993.5</td>\n",
       "      <td>21.38</td>\n",
       "      <td>6</td>\n",
       "      <td>0.62</td>\n",
       "    </tr>\n",
       "    <tr>\n",
       "      <th>2018-12-24 23:00:00</th>\n",
       "      <td>Foggy until afternoon, starting again overnight.</td>\n",
       "      <td>1.4</td>\n",
       "      <td>69.0</td>\n",
       "      <td>979.3</td>\n",
       "      <td>31.16</td>\n",
       "      <td>4</td>\n",
       "      <td>0.98</td>\n",
       "    </tr>\n",
       "    <tr>\n",
       "      <th>2018-12-25 23:00:00</th>\n",
       "      <td>Foggy in the morning.</td>\n",
       "      <td>1.3</td>\n",
       "      <td>71.0</td>\n",
       "      <td>973.0</td>\n",
       "      <td>25.08</td>\n",
       "      <td>4</td>\n",
       "      <td>0.81</td>\n",
       "    </tr>\n",
       "    <tr>\n",
       "      <th>2018-12-26 23:00:00</th>\n",
       "      <td>Overcast throughout the day.</td>\n",
       "      <td>0.5</td>\n",
       "      <td>67.0</td>\n",
       "      <td>981.7</td>\n",
       "      <td>22.77</td>\n",
       "      <td>4</td>\n",
       "      <td>0.36</td>\n",
       "    </tr>\n",
       "  </tbody>\n",
       "</table>\n",
       "</div>"
      ],
      "text/plain": [
       "                                                              summary  \\\n",
       "time                                                                    \n",
       "2018-12-22 23:00:00                 Partly cloudy throughout the day.   \n",
       "2018-12-23 23:00:00                 Partly cloudy throughout the day.   \n",
       "2018-12-24 23:00:00  Foggy until afternoon, starting again overnight.   \n",
       "2018-12-25 23:00:00                             Foggy in the morning.   \n",
       "2018-12-26 23:00:00                      Overcast throughout the day.   \n",
       "\n",
       "                     precipAccumulation  humidity  pressure  windSpeed  \\\n",
       "time                                                                     \n",
       "2018-12-22 23:00:00                 0.1      58.0     994.9       8.61   \n",
       "2018-12-23 23:00:00                 0.2      61.0     993.5      21.38   \n",
       "2018-12-24 23:00:00                 1.4      69.0     979.3      31.16   \n",
       "2018-12-25 23:00:00                 1.3      71.0     973.0      25.08   \n",
       "2018-12-26 23:00:00                 0.5      67.0     981.7      22.77   \n",
       "\n",
       "                     uvIndex  temperatureMax  \n",
       "time                                          \n",
       "2018-12-22 23:00:00        4            0.02  \n",
       "2018-12-23 23:00:00        6            0.62  \n",
       "2018-12-24 23:00:00        4            0.98  \n",
       "2018-12-25 23:00:00        4            0.81  \n",
       "2018-12-26 23:00:00        4            0.36  "
      ]
     },
     "execution_count": 4,
     "metadata": {},
     "output_type": "execute_result"
    }
   ],
   "source": [
    "sta_rosa_dark_sky.head()"
   ]
  },
  {
   "cell_type": "code",
   "execution_count": 5,
   "metadata": {
    "ExecuteTime": {
     "end_time": "2020-09-24T02:10:13.910897Z",
     "start_time": "2020-09-24T02:10:13.525919Z"
    }
   },
   "outputs": [
    {
     "data": {
      "image/png": "[encoded data removed]",
      "text/plain": [
       "<Figure size 1440x720 with 1 Axes>"
      ]
     },
     "metadata": {
      "needs_background": "light"
     },
     "output_type": "display_data"
    }
   ],
   "source": [
    "plt.figure(figsize=(20,10))\n",
    "sns.boxplot(data=sta_rosa_dark_sky[['precipAccumulation',\n",
    "                                    'temperatureMax',\n",
    "                                    'humidity',\n",
    "                                    'windSpeed']],color='red')\n",
    "plt.xlabel('Variables')\n",
    "plt.title('Diagrama de Cajas Variables Sta Rosa - Dark Sky')\n",
    "plt.xticks(rotation=45)\n",
    "sns.despine()"
   ]
  },
  {
   "cell_type": "code",
   "execution_count": 6,
   "metadata": {
    "ExecuteTime": {
     "end_time": "2020-09-24T02:10:15.096289Z",
     "start_time": "2020-09-24T02:10:13.912910Z"
    }
   },
   "outputs": [],
   "source": [
    "aprhi = pd.read_csv('./dataset/Datos_Meteorologicos/APRHi - Sta Rosa de Calamuchita.csv', parse_dates=True, index_col='date_time')"
   ]
  },
  {
   "cell_type": "code",
   "execution_count": 7,
   "metadata": {
    "ExecuteTime": {
     "end_time": "2020-09-24T02:10:15.466898Z",
     "start_time": "2020-09-24T02:10:15.098004Z"
    }
   },
   "outputs": [
    {
     "data": {
      "image/png": "[encoded data removed]",
      "text/plain": [
       "<Figure size 1440x720 with 1 Axes>"
      ]
     },
     "metadata": {
      "needs_background": "light"
     },
     "output_type": "display_data"
    }
   ],
   "source": [
    "plt.figure(figsize=(20,10))\n",
    "sns.boxplot(data=aprhi[['Lluvia_[mm]',\n",
    "                        'Temperatura_[Celsius]',\n",
    "                        'HumedadRel_[porc]',\n",
    "                        'RafagaViento_[KpH]']],color='green')\n",
    "plt.xlabel('Variables')\n",
    "plt.title('Diagrama de Cajas Variables Santa Rosa de Calamuchita')\n",
    "plt.xticks(rotation=45)\n",
    "sns.despine()"
   ]
  },
  {
   "cell_type": "code",
   "execution_count": 8,
   "metadata": {
    "ExecuteTime": {
     "end_time": "2020-09-24T02:10:15.500202Z",
     "start_time": "2020-09-24T02:10:15.468533Z"
    }
   },
   "outputs": [
    {
     "name": "stdout",
     "output_type": "stream",
     "text": [
      "<class 'pandas.core.frame.DataFrame'>\n",
      "Index: 92471 entries, 08/15/2018 13:00 to 05/18/2020 18:00\n",
      "Data columns (total 26 columns):\n",
      " #   Column                          Non-Null Count  Dtype  \n",
      "---  ------                          --------------  -----  \n",
      " 0   Codigo                          92471 non-null  int64  \n",
      " 1   Estacion                        92471 non-null  object \n",
      " 2   dia                             92471 non-null  int64  \n",
      " 3   mes                             56188 non-null  float64\n",
      " 4   anio                            56188 non-null  float64\n",
      " 5   date                            92471 non-null  object \n",
      " 6   Hora                            92471 non-null  object \n",
      " 7   BUI_[adim]                      62 non-null     float64\n",
      " 8   Temperatura_[Celsius]           92463 non-null  float64\n",
      " 9   HumedadRel_[porc]               92463 non-null  float64\n",
      " 10  Presion_[hPa]                   92463 non-null  float64\n",
      " 11  DireccionViento_[grad]          92463 non-null  float64\n",
      " 12  VelocidadViento_[KpH]           92463 non-null  float64\n",
      " 13  RadiacionSolar_[WpM2]           92463 non-null  float64\n",
      " 14  Lluvia_[mm]                     92463 non-null  float64\n",
      " 15  RafagaViento_[KpH]              92463 non-null  float64\n",
      " 16  ISI_[adim]                      62 non-null     float64\n",
      " 17  FaseLunarAmanecerOcaso_[adim]   0 non-null      float64\n",
      " 18  Alertas_Heladas_Agroapp_[adim]  0 non-null      float64\n",
      " 19  Panel_Solar_[adim]              0 non-null      float64\n",
      " 20  SenialGPRS_[ASU]                92461 non-null  float64\n",
      " 21  IndicePeligroIncendios_[adim]   62 non-null     float64\n",
      " 22  FFMC_[adim]                     62 non-null     float64\n",
      " 23  DMC_[adim]                      62 non-null     float64\n",
      " 24  DC_[adim]                       62 non-null     float64\n",
      " 25  NivelBateria_[V]                92463 non-null  float64\n",
      "dtypes: float64(21), int64(2), object(3)\n",
      "memory usage: 19.0+ MB\n"
     ]
    }
   ],
   "source": [
    "aprhi.info()"
   ]
  },
  {
   "cell_type": "code",
   "execution_count": 9,
   "metadata": {
    "ExecuteTime": {
     "end_time": "2020-09-24T02:10:21.862739Z",
     "start_time": "2020-09-24T02:10:15.501853Z"
    }
   },
   "outputs": [],
   "source": [
    "aprhi2 = pd.read_csv('./dataset/Datos_Meteorologicos/APRHi - Sta Rosa de Calamuchita.csv', parse_dates=['date_time','date'])\n",
    "aprhi2['date_time'] = pd.to_datetime(aprhi2['date_time'],errors='coerce')\n",
    "aprhi3 = aprhi2.copy()\n",
    "aprhi2 = aprhi2.groupby(aprhi2['date_time'].dt.day,as_index=False).mean()\n",
    "aprhi_acc = aprhi3.groupby(aprhi3['date_time'].dt.day,as_index=False).sum()\n",
    "aprhi2['Lluvia_[mm]'] = aprhi_acc['Lluvia_[mm]']"
   ]
  },
  {
   "cell_type": "code",
   "execution_count": 10,
   "metadata": {
    "ExecuteTime": {
     "end_time": "2020-09-24T02:10:22.148976Z",
     "start_time": "2020-09-24T02:10:21.866962Z"
    }
   },
   "outputs": [
    {
     "data": {
      "image/png": "[encoded data removed]",
      "text/plain": [
       "<Figure size 1440x720 with 1 Axes>"
      ]
     },
     "metadata": {
      "needs_background": "light"
     },
     "output_type": "display_data"
    }
   ],
   "source": [
    "plt.figure(figsize=(20,10))\n",
    "sns.boxplot(data=aprhi2[['Lluvia_[mm]',\n",
    "                        'Temperatura_[Celsius]',\n",
    "                        'HumedadRel_[porc]',\n",
    "                        'RafagaViento_[KpH]']],color='lightgreen')\n",
    "plt.xlabel('Variables')\n",
    "plt.title('Diagrama de Cajas Variables Santa Rosa de Calamuchita')\n",
    "plt.xticks(rotation=45)\n",
    "sns.despine()"
   ]
  },
  {
   "cell_type": "code",
   "execution_count": 11,
   "metadata": {
    "ExecuteTime": {
     "end_time": "2020-09-24T02:10:22.201716Z",
     "start_time": "2020-09-24T02:10:22.151290Z"
    }
   },
   "outputs": [
    {
     "data": {
      "text/html": [
       "<div>\n",
       "<style scoped>\n",
       "    .dataframe tbody tr th:only-of-type {\n",
       "        vertical-align: middle;\n",
       "    }\n",
       "\n",
       "    .dataframe tbody tr th {\n",
       "        vertical-align: top;\n",
       "    }\n",
       "\n",
       "    .dataframe thead th {\n",
       "        text-align: right;\n",
       "    }\n",
       "</style>\n",
       "<table border=\"1\" class=\"dataframe\">\n",
       "  <thead>\n",
       "    <tr style=\"text-align: right;\">\n",
       "      <th></th>\n",
       "      <th>precipAccumulation</th>\n",
       "      <th>humidity</th>\n",
       "      <th>pressure</th>\n",
       "      <th>windSpeed</th>\n",
       "      <th>uvIndex</th>\n",
       "      <th>temperatureMax</th>\n",
       "    </tr>\n",
       "  </thead>\n",
       "  <tbody>\n",
       "    <tr>\n",
       "      <th>count</th>\n",
       "      <td>442.000000</td>\n",
       "      <td>495.000000</td>\n",
       "      <td>495.000000</td>\n",
       "      <td>495.000000</td>\n",
       "      <td>495.000000</td>\n",
       "      <td>495.000000</td>\n",
       "    </tr>\n",
       "    <tr>\n",
       "      <th>mean</th>\n",
       "      <td>1.490045</td>\n",
       "      <td>48.917172</td>\n",
       "      <td>987.963636</td>\n",
       "      <td>27.209232</td>\n",
       "      <td>1.907071</td>\n",
       "      <td>-3.232040</td>\n",
       "    </tr>\n",
       "    <tr>\n",
       "      <th>std</th>\n",
       "      <td>9.316393</td>\n",
       "      <td>16.955503</td>\n",
       "      <td>11.578374</td>\n",
       "      <td>11.295848</td>\n",
       "      <td>1.603214</td>\n",
       "      <td>6.196615</td>\n",
       "    </tr>\n",
       "    <tr>\n",
       "      <th>min</th>\n",
       "      <td>0.000000</td>\n",
       "      <td>9.000000</td>\n",
       "      <td>947.700000</td>\n",
       "      <td>3.180000</td>\n",
       "      <td>0.000000</td>\n",
       "      <td>-24.390000</td>\n",
       "    </tr>\n",
       "    <tr>\n",
       "      <th>25%</th>\n",
       "      <td>0.300000</td>\n",
       "      <td>38.000000</td>\n",
       "      <td>980.400000</td>\n",
       "      <td>18.675000</td>\n",
       "      <td>0.000000</td>\n",
       "      <td>-5.730000</td>\n",
       "    </tr>\n",
       "    <tr>\n",
       "      <th>50%</th>\n",
       "      <td>0.500000</td>\n",
       "      <td>55.000000</td>\n",
       "      <td>988.500000</td>\n",
       "      <td>25.550000</td>\n",
       "      <td>2.000000</td>\n",
       "      <td>-0.270000</td>\n",
       "    </tr>\n",
       "    <tr>\n",
       "      <th>75%</th>\n",
       "      <td>1.300000</td>\n",
       "      <td>62.000000</td>\n",
       "      <td>995.900000</td>\n",
       "      <td>35.515000</td>\n",
       "      <td>3.000000</td>\n",
       "      <td>0.755000</td>\n",
       "    </tr>\n",
       "    <tr>\n",
       "      <th>max</th>\n",
       "      <td>194.600000</td>\n",
       "      <td>71.000000</td>\n",
       "      <td>1020.500000</td>\n",
       "      <td>61.930000</td>\n",
       "      <td>6.000000</td>\n",
       "      <td>3.190000</td>\n",
       "    </tr>\n",
       "  </tbody>\n",
       "</table>\n",
       "</div>"
      ],
      "text/plain": [
       "       precipAccumulation    humidity     pressure   windSpeed     uvIndex  \\\n",
       "count          442.000000  495.000000   495.000000  495.000000  495.000000   \n",
       "mean             1.490045   48.917172   987.963636   27.209232    1.907071   \n",
       "std              9.316393   16.955503    11.578374   11.295848    1.603214   \n",
       "min              0.000000    9.000000   947.700000    3.180000    0.000000   \n",
       "25%              0.300000   38.000000   980.400000   18.675000    0.000000   \n",
       "50%              0.500000   55.000000   988.500000   25.550000    2.000000   \n",
       "75%              1.300000   62.000000   995.900000   35.515000    3.000000   \n",
       "max            194.600000   71.000000  1020.500000   61.930000    6.000000   \n",
       "\n",
       "       temperatureMax  \n",
       "count      495.000000  \n",
       "mean        -3.232040  \n",
       "std          6.196615  \n",
       "min        -24.390000  \n",
       "25%         -5.730000  \n",
       "50%         -0.270000  \n",
       "75%          0.755000  \n",
       "max          3.190000  "
      ]
     },
     "execution_count": 11,
     "metadata": {},
     "output_type": "execute_result"
    }
   ],
   "source": [
    "sta_rosa_dark_sky.describe()"
   ]
  },
  {
   "cell_type": "code",
   "execution_count": 12,
   "metadata": {
    "ExecuteTime": {
     "end_time": "2020-09-24T02:10:22.313031Z",
     "start_time": "2020-09-24T02:10:22.203277Z"
    }
   },
   "outputs": [
    {
     "data": {
      "text/html": [
       "<div>\n",
       "<style scoped>\n",
       "    .dataframe tbody tr th:only-of-type {\n",
       "        vertical-align: middle;\n",
       "    }\n",
       "\n",
       "    .dataframe tbody tr th {\n",
       "        vertical-align: top;\n",
       "    }\n",
       "\n",
       "    .dataframe thead th {\n",
       "        text-align: right;\n",
       "    }\n",
       "</style>\n",
       "<table border=\"1\" class=\"dataframe\">\n",
       "  <thead>\n",
       "    <tr style=\"text-align: right;\">\n",
       "      <th></th>\n",
       "      <th>mes</th>\n",
       "      <th>anio</th>\n",
       "      <th>Temperatura_[Celsius]</th>\n",
       "      <th>HumedadRel_[porc]</th>\n",
       "      <th>Presion_[hPa]</th>\n",
       "      <th>VelocidadViento_[KpH]</th>\n",
       "      <th>RadiacionSolar_[WpM2]</th>\n",
       "      <th>Lluvia_[mm]</th>\n",
       "      <th>RafagaViento_[KpH]</th>\n",
       "      <th>ISI_[adim]</th>\n",
       "      <th>FaseLunarAmanecerOcaso_[adim]</th>\n",
       "      <th>Alertas_Heladas_Agroapp_[adim]</th>\n",
       "      <th>Panel_Solar_[adim]</th>\n",
       "      <th>SenialGPRS_[ASU]</th>\n",
       "      <th>IndicePeligroIncendios_[adim]</th>\n",
       "      <th>FFMC_[adim]</th>\n",
       "      <th>DMC_[adim]</th>\n",
       "      <th>DC_[adim]</th>\n",
       "      <th>NivelBateria_[V]</th>\n",
       "    </tr>\n",
       "  </thead>\n",
       "  <tbody>\n",
       "    <tr>\n",
       "      <th>count</th>\n",
       "      <td>19.000000</td>\n",
       "      <td>19.000000</td>\n",
       "      <td>19.000000</td>\n",
       "      <td>19.000000</td>\n",
       "      <td>19.000000</td>\n",
       "      <td>19.000000</td>\n",
       "      <td>19.000000</td>\n",
       "      <td>19.000000</td>\n",
       "      <td>19.000000</td>\n",
       "      <td>19.000000</td>\n",
       "      <td>0.0</td>\n",
       "      <td>0.0</td>\n",
       "      <td>0.0</td>\n",
       "      <td>19.000000</td>\n",
       "      <td>19.000000</td>\n",
       "      <td>19.000000</td>\n",
       "      <td>19.000000</td>\n",
       "      <td>19.000000</td>\n",
       "      <td>19.000000</td>\n",
       "    </tr>\n",
       "    <tr>\n",
       "      <th>mean</th>\n",
       "      <td>6.582553</td>\n",
       "      <td>2018.968131</td>\n",
       "      <td>16.727088</td>\n",
       "      <td>69.748367</td>\n",
       "      <td>938.068216</td>\n",
       "      <td>2.599616</td>\n",
       "      <td>204.166738</td>\n",
       "      <td>52.200000</td>\n",
       "      <td>7.012042</td>\n",
       "      <td>4.294422</td>\n",
       "      <td>NaN</td>\n",
       "      <td>NaN</td>\n",
       "      <td>NaN</td>\n",
       "      <td>4.961961</td>\n",
       "      <td>7.864237</td>\n",
       "      <td>78.019487</td>\n",
       "      <td>22.246509</td>\n",
       "      <td>89.964312</td>\n",
       "      <td>12.859929</td>\n",
       "    </tr>\n",
       "    <tr>\n",
       "      <th>std</th>\n",
       "      <td>0.140750</td>\n",
       "      <td>0.040313</td>\n",
       "      <td>0.693647</td>\n",
       "      <td>2.157333</td>\n",
       "      <td>1.225409</td>\n",
       "      <td>0.175080</td>\n",
       "      <td>14.580628</td>\n",
       "      <td>42.289689</td>\n",
       "      <td>0.466396</td>\n",
       "      <td>1.746533</td>\n",
       "      <td>NaN</td>\n",
       "      <td>NaN</td>\n",
       "      <td>NaN</td>\n",
       "      <td>0.216307</td>\n",
       "      <td>3.803803</td>\n",
       "      <td>19.803260</td>\n",
       "      <td>6.397604</td>\n",
       "      <td>24.275916</td>\n",
       "      <td>0.015016</td>\n",
       "    </tr>\n",
       "    <tr>\n",
       "      <th>min</th>\n",
       "      <td>6.428571</td>\n",
       "      <td>2018.894737</td>\n",
       "      <td>15.839643</td>\n",
       "      <td>65.760080</td>\n",
       "      <td>935.157118</td>\n",
       "      <td>2.296317</td>\n",
       "      <td>172.101675</td>\n",
       "      <td>8.400000</td>\n",
       "      <td>6.252310</td>\n",
       "      <td>0.000040</td>\n",
       "      <td>NaN</td>\n",
       "      <td>NaN</td>\n",
       "      <td>NaN</td>\n",
       "      <td>4.591465</td>\n",
       "      <td>0.000040</td>\n",
       "      <td>17.058506</td>\n",
       "      <td>11.526794</td>\n",
       "      <td>40.618800</td>\n",
       "      <td>12.827353</td>\n",
       "    </tr>\n",
       "    <tr>\n",
       "      <th>25%</th>\n",
       "      <td>6.508379</td>\n",
       "      <td>2018.952373</td>\n",
       "      <td>16.373411</td>\n",
       "      <td>68.625087</td>\n",
       "      <td>937.432600</td>\n",
       "      <td>2.460763</td>\n",
       "      <td>193.670900</td>\n",
       "      <td>28.000000</td>\n",
       "      <td>6.632197</td>\n",
       "      <td>3.470840</td>\n",
       "      <td>NaN</td>\n",
       "      <td>NaN</td>\n",
       "      <td>NaN</td>\n",
       "      <td>4.825807</td>\n",
       "      <td>5.856256</td>\n",
       "      <td>74.841260</td>\n",
       "      <td>16.754312</td>\n",
       "      <td>74.373433</td>\n",
       "      <td>12.854423</td>\n",
       "    </tr>\n",
       "    <tr>\n",
       "      <th>50%</th>\n",
       "      <td>6.571429</td>\n",
       "      <td>2018.952381</td>\n",
       "      <td>16.500748</td>\n",
       "      <td>70.090810</td>\n",
       "      <td>938.433607</td>\n",
       "      <td>2.606593</td>\n",
       "      <td>207.716227</td>\n",
       "      <td>43.800000</td>\n",
       "      <td>7.000529</td>\n",
       "      <td>4.799214</td>\n",
       "      <td>NaN</td>\n",
       "      <td>NaN</td>\n",
       "      <td>NaN</td>\n",
       "      <td>4.951389</td>\n",
       "      <td>8.481485</td>\n",
       "      <td>88.341974</td>\n",
       "      <td>22.609677</td>\n",
       "      <td>84.566976</td>\n",
       "      <td>12.858788</td>\n",
       "    </tr>\n",
       "    <tr>\n",
       "      <th>75%</th>\n",
       "      <td>6.571429</td>\n",
       "      <td>2018.994414</td>\n",
       "      <td>17.122571</td>\n",
       "      <td>71.297877</td>\n",
       "      <td>938.808712</td>\n",
       "      <td>2.687065</td>\n",
       "      <td>216.135756</td>\n",
       "      <td>66.700000</td>\n",
       "      <td>7.200169</td>\n",
       "      <td>5.261664</td>\n",
       "      <td>NaN</td>\n",
       "      <td>NaN</td>\n",
       "      <td>NaN</td>\n",
       "      <td>5.043802</td>\n",
       "      <td>10.188366</td>\n",
       "      <td>89.651449</td>\n",
       "      <td>27.116254</td>\n",
       "      <td>106.981765</td>\n",
       "      <td>12.864396</td>\n",
       "    </tr>\n",
       "    <tr>\n",
       "      <th>max</th>\n",
       "      <td>7.052632</td>\n",
       "      <td>2019.047619</td>\n",
       "      <td>18.441115</td>\n",
       "      <td>73.291141</td>\n",
       "      <td>939.526910</td>\n",
       "      <td>3.004814</td>\n",
       "      <td>223.777571</td>\n",
       "      <td>193.400000</td>\n",
       "      <td>7.967176</td>\n",
       "      <td>7.703377</td>\n",
       "      <td>NaN</td>\n",
       "      <td>NaN</td>\n",
       "      <td>NaN</td>\n",
       "      <td>5.545815</td>\n",
       "      <td>14.471355</td>\n",
       "      <td>90.824661</td>\n",
       "      <td>32.900248</td>\n",
       "      <td>131.790767</td>\n",
       "      <td>12.887027</td>\n",
       "    </tr>\n",
       "  </tbody>\n",
       "</table>\n",
       "</div>"
      ],
      "text/plain": [
       "             mes         anio  Temperatura_[Celsius]  HumedadRel_[porc]  \\\n",
       "count  19.000000    19.000000              19.000000          19.000000   \n",
       "mean    6.582553  2018.968131              16.727088          69.748367   \n",
       "std     0.140750     0.040313               0.693647           2.157333   \n",
       "min     6.428571  2018.894737              15.839643          65.760080   \n",
       "25%     6.508379  2018.952373              16.373411          68.625087   \n",
       "50%     6.571429  2018.952381              16.500748          70.090810   \n",
       "75%     6.571429  2018.994414              17.122571          71.297877   \n",
       "max     7.052632  2019.047619              18.441115          73.291141   \n",
       "\n",
       "       Presion_[hPa]  VelocidadViento_[KpH]  RadiacionSolar_[WpM2]  \\\n",
       "count      19.000000              19.000000              19.000000   \n",
       "mean      938.068216               2.599616             204.166738   \n",
       "std         1.225409               0.175080              14.580628   \n",
       "min       935.157118               2.296317             172.101675   \n",
       "25%       937.432600               2.460763             193.670900   \n",
       "50%       938.433607               2.606593             207.716227   \n",
       "75%       938.808712               2.687065             216.135756   \n",
       "max       939.526910               3.004814             223.777571   \n",
       "\n",
       "       Lluvia_[mm]  RafagaViento_[KpH]  ISI_[adim]  \\\n",
       "count    19.000000           19.000000   19.000000   \n",
       "mean     52.200000            7.012042    4.294422   \n",
       "std      42.289689            0.466396    1.746533   \n",
       "min       8.400000            6.252310    0.000040   \n",
       "25%      28.000000            6.632197    3.470840   \n",
       "50%      43.800000            7.000529    4.799214   \n",
       "75%      66.700000            7.200169    5.261664   \n",
       "max     193.400000            7.967176    7.703377   \n",
       "\n",
       "       FaseLunarAmanecerOcaso_[adim]  Alertas_Heladas_Agroapp_[adim]  \\\n",
       "count                            0.0                             0.0   \n",
       "mean                             NaN                             NaN   \n",
       "std                              NaN                             NaN   \n",
       "min                              NaN                             NaN   \n",
       "25%                              NaN                             NaN   \n",
       "50%                              NaN                             NaN   \n",
       "75%                              NaN                             NaN   \n",
       "max                              NaN                             NaN   \n",
       "\n",
       "       Panel_Solar_[adim]  SenialGPRS_[ASU]  IndicePeligroIncendios_[adim]  \\\n",
       "count                 0.0         19.000000                      19.000000   \n",
       "mean                  NaN          4.961961                       7.864237   \n",
       "std                   NaN          0.216307                       3.803803   \n",
       "min                   NaN          4.591465                       0.000040   \n",
       "25%                   NaN          4.825807                       5.856256   \n",
       "50%                   NaN          4.951389                       8.481485   \n",
       "75%                   NaN          5.043802                      10.188366   \n",
       "max                   NaN          5.545815                      14.471355   \n",
       "\n",
       "       FFMC_[adim]  DMC_[adim]   DC_[adim]  NivelBateria_[V]  \n",
       "count    19.000000   19.000000   19.000000         19.000000  \n",
       "mean     78.019487   22.246509   89.964312         12.859929  \n",
       "std      19.803260    6.397604   24.275916          0.015016  \n",
       "min      17.058506   11.526794   40.618800         12.827353  \n",
       "25%      74.841260   16.754312   74.373433         12.854423  \n",
       "50%      88.341974   22.609677   84.566976         12.858788  \n",
       "75%      89.651449   27.116254  106.981765         12.864396  \n",
       "max      90.824661   32.900248  131.790767         12.887027  "
      ]
     },
     "execution_count": 12,
     "metadata": {},
     "output_type": "execute_result"
    }
   ],
   "source": [
    "aprhi2.describe().drop(['dia','Codigo','BUI_[adim]','DireccionViento_[grad]'],axis=1)"
   ]
  },
  {
   "cell_type": "markdown",
   "metadata": {},
   "source": [
    "## 2. Análisis y curación de datos Scrapeados de WeatherUnderground\n",
    "\n",
    "Referencias: https://www.wunderground.com/\n",
    "\n",
    "  1. Extraer los datos para la estación meteorológica personal (PWS, por siglas en inglés) \"ICALAMUC5\" (en Villa General Belgrano), para el período 1/Mayo/2018 al 01/Mayo/2020 mediante el Scrappeo de WeatherUnderground (WU).\n",
    "  2. ¿Existen valores faltantes? Cuantificarlos.\n",
    "  3. Convertir los datos faltantes en NaN.\n",
    "  4. Hacer las conversiones de unidades necesarias a estos datos para poder compararlos con \"APRHi - Sta Rosa de Calamuchita\".\n",
    "  5. Comparar los estadísticos de este dataset con los de \"APRHi - Sta Rosa de Calamuchita\".\n"
   ]
  },
  {
   "cell_type": "code",
   "execution_count": 13,
   "metadata": {
    "ExecuteTime": {
     "end_time": "2020-09-24T02:10:22.317815Z",
     "start_time": "2020-09-24T02:10:22.315011Z"
    }
   },
   "outputs": [],
   "source": [
    "#!pip3 install requests bs4"
   ]
  },
  {
   "cell_type": "code",
   "execution_count": 14,
   "metadata": {
    "ExecuteTime": {
     "end_time": "2020-09-24T02:10:22.431191Z",
     "start_time": "2020-09-24T02:10:22.320192Z"
    }
   },
   "outputs": [],
   "source": [
    "from bs4 import BeautifulSoup as bs\n",
    "import requests\n",
    "from urllib.request import urlopen\n",
    "import datetime\n",
    "import pandas as pd"
   ]
  },
  {
   "cell_type": "code",
   "execution_count": null,
   "metadata": {
    "ExecuteTime": {
     "end_time": "2020-08-20T15:32:36.324144Z",
     "start_time": "2020-08-20T15:32:36.320838Z"
    }
   },
   "outputs": [],
   "source": [
    "stations = [\"ICALAMUC3\"]\n",
    "start_date = datetime.date(2018, 5, 1)\n",
    "end_date = datetime.date(2020, 5, 6) #Esta fecha no es incluida\n",
    "rango = 'daily'\n",
    "baseUrl = 'https://www.wunderground.com/dashboard/pws/<station>/table/<date>/<date>/daily'"
   ]
  },
  {
   "cell_type": "code",
   "execution_count": null,
   "metadata": {
    "ExecuteTime": {
     "start_time": "2020-08-20T16:17:26.652Z"
    }
   },
   "outputs": [],
   "source": [
    "# stations_temp = []\n",
    "\n",
    "for station in stations:\n",
    "    print(station)\n",
    "    tab_exist = 0\n",
    "    for date in daterange(start_date, end_date):\n",
    "        url = baseUrl.replace(\"<date>\", date.strftime(\"%Y-%m-%d\")).replace(\"<station>\", station)\n",
    "        page = bs(requests.get(url).content)\n",
    "        response = requests.get(url)\n",
    "        tabla = page.find('table', attrs={'class':'history-table desktop-table'})\n",
    "        if tab_exist == 0:\n",
    "            if tabla:\n",
    "                print('Hay datos', date, station)\n",
    "                tab_exist = 1\n",
    "                #Creo lista con el nombre de las columnas\n",
    "                list_html = tabla.find_all('th')\n",
    "                #lista con las unidades\n",
    "                list_unid = ['','C','C','%','','km/h','km/h','hPa','mm','mm','','']\n",
    "                list_col = []\n",
    "                for i in list_html:\n",
    "                    col_temp = i.string\n",
    "                    list_col.append(col_temp)\n",
    "                for j in range(len(list_col)):\n",
    "                    if list_unid[j]:          \n",
    "                        list_col[j] = list_col[j] + '[' + list_unid[j] + ']'\n",
    "                        #list_col[j] = list_col[j].strip('()'\n",
    "                df_wu = pd.DataFrame(columns = list_col)\n",
    "                tab_exist=1\n",
    "        if tab_exist == 1:    #Entra acá cuando ya se creo la lista con los parametros\n",
    "            print(date)\n",
    "            if response.status_code == 200:\n",
    "                if tabla:\n",
    "                    m = tabla.tbody.find_all('tr')\n",
    "                    m_val = []\n",
    "                    for i in m:\n",
    "                        list_temp = []\n",
    "                        l_html = i.find_all('td')\n",
    "                        for j in range(0,len(l_html)): \n",
    "                            if j == 0:\n",
    "                                list_temp.append(date.strftime(\"%Y-%m-%d\") +' '+ l_html[j].string)\n",
    "                            elif j == 4 or j == 10 or j == 11: \n",
    "                                list_temp.append(l_html[j].string) \n",
    "                            else:\n",
    "                                list_temp.append(l_html[j].span.span.string)\n",
    "                        m_val.append(list_temp) # Matriz con los valores\n",
    "                    df_temp = pd.DataFrame(m_val, columns=list_col)  # Transformo la matriz en un DataFrame\n",
    "                    df_temp['Station'] = station\n",
    "                    df_temp['Date'] = date\n",
    "                    df_wu = pd.concat([df_wu,df_temp], axis=0)\n",
    "            else:\n",
    "                print(response)"
   ]
  },
  {
   "cell_type": "code",
   "execution_count": null,
   "metadata": {
    "ExecuteTime": {
     "start_time": "2020-08-20T15:12:04.580Z"
    }
   },
   "outputs": [],
   "source": [
    "df_wu.to_csv('scrapped_icalamuc3',index=False)"
   ]
  },
  {
   "cell_type": "code",
   "execution_count": 15,
   "metadata": {
    "ExecuteTime": {
     "end_time": "2020-09-24T02:10:42.054055Z",
     "start_time": "2020-09-24T02:10:22.432910Z"
    }
   },
   "outputs": [],
   "source": [
    "df_wu = pd.read_csv('scrapped_icalamuc3', parse_dates=True, index_col='Time')"
   ]
  },
  {
   "cell_type": "code",
   "execution_count": 16,
   "metadata": {
    "ExecuteTime": {
     "end_time": "2020-09-24T02:10:42.113691Z",
     "start_time": "2020-09-24T02:10:42.056564Z"
    }
   },
   "outputs": [
    {
     "data": {
      "text/html": [
       "<div>\n",
       "<style scoped>\n",
       "    .dataframe tbody tr th:only-of-type {\n",
       "        vertical-align: middle;\n",
       "    }\n",
       "\n",
       "    .dataframe tbody tr th {\n",
       "        vertical-align: top;\n",
       "    }\n",
       "\n",
       "    .dataframe thead th {\n",
       "        text-align: right;\n",
       "    }\n",
       "</style>\n",
       "<table border=\"1\" class=\"dataframe\">\n",
       "  <thead>\n",
       "    <tr style=\"text-align: right;\">\n",
       "      <th></th>\n",
       "      <th>Temperature[C]</th>\n",
       "      <th>Dew Point[C]</th>\n",
       "      <th>Humidity[%]</th>\n",
       "      <th>Wind</th>\n",
       "      <th>Speed[km/h]</th>\n",
       "      <th>Gust[km/h]</th>\n",
       "      <th>Pressure[hPa]</th>\n",
       "      <th>Precip. Rate.[mm]</th>\n",
       "      <th>Precip. Accum.[mm]</th>\n",
       "      <th>UV</th>\n",
       "      <th>Solar</th>\n",
       "      <th>Station</th>\n",
       "      <th>Date</th>\n",
       "    </tr>\n",
       "    <tr>\n",
       "      <th>Time</th>\n",
       "      <th></th>\n",
       "      <th></th>\n",
       "      <th></th>\n",
       "      <th></th>\n",
       "      <th></th>\n",
       "      <th></th>\n",
       "      <th></th>\n",
       "      <th></th>\n",
       "      <th></th>\n",
       "      <th></th>\n",
       "      <th></th>\n",
       "      <th></th>\n",
       "      <th></th>\n",
       "    </tr>\n",
       "  </thead>\n",
       "  <tbody>\n",
       "    <tr>\n",
       "      <th>2018-05-18 12:28:00</th>\n",
       "      <td>59.0</td>\n",
       "      <td>41.0</td>\n",
       "      <td>51</td>\n",
       "      <td>SE</td>\n",
       "      <td>5.8</td>\n",
       "      <td>6.9</td>\n",
       "      <td>29.92</td>\n",
       "      <td>0.0</td>\n",
       "      <td>0.0</td>\n",
       "      <td>2</td>\n",
       "      <td>NaN</td>\n",
       "      <td>ICALAMUC3</td>\n",
       "      <td>2018-05-18</td>\n",
       "    </tr>\n",
       "    <tr>\n",
       "      <th>2018-05-18 16:27:00</th>\n",
       "      <td>59.4</td>\n",
       "      <td>41.7</td>\n",
       "      <td>52</td>\n",
       "      <td>SSE</td>\n",
       "      <td>4.0</td>\n",
       "      <td>5.8</td>\n",
       "      <td>29.92</td>\n",
       "      <td>0.0</td>\n",
       "      <td>0.0</td>\n",
       "      <td>2</td>\n",
       "      <td>NaN</td>\n",
       "      <td>ICALAMUC3</td>\n",
       "      <td>2018-05-18</td>\n",
       "    </tr>\n",
       "    <tr>\n",
       "      <th>2018-05-18 16:34:00</th>\n",
       "      <td>58.6</td>\n",
       "      <td>41.1</td>\n",
       "      <td>52</td>\n",
       "      <td>SE</td>\n",
       "      <td>2.2</td>\n",
       "      <td>2.6</td>\n",
       "      <td>29.92</td>\n",
       "      <td>0.0</td>\n",
       "      <td>0.0</td>\n",
       "      <td>2</td>\n",
       "      <td>NaN</td>\n",
       "      <td>ICALAMUC3</td>\n",
       "      <td>2018-05-18</td>\n",
       "    </tr>\n",
       "    <tr>\n",
       "      <th>2018-05-18 16:36:00</th>\n",
       "      <td>59.0</td>\n",
       "      <td>40.5</td>\n",
       "      <td>50</td>\n",
       "      <td>SSE</td>\n",
       "      <td>3.8</td>\n",
       "      <td>5.8</td>\n",
       "      <td>29.92</td>\n",
       "      <td>0.0</td>\n",
       "      <td>0.0</td>\n",
       "      <td>2</td>\n",
       "      <td>NaN</td>\n",
       "      <td>ICALAMUC3</td>\n",
       "      <td>2018-05-18</td>\n",
       "    </tr>\n",
       "    <tr>\n",
       "      <th>2018-05-18 16:41:00</th>\n",
       "      <td>59.0</td>\n",
       "      <td>41.0</td>\n",
       "      <td>51</td>\n",
       "      <td>South</td>\n",
       "      <td>2.9</td>\n",
       "      <td>3.4</td>\n",
       "      <td>29.93</td>\n",
       "      <td>0.0</td>\n",
       "      <td>0.0</td>\n",
       "      <td>2</td>\n",
       "      <td>NaN</td>\n",
       "      <td>ICALAMUC3</td>\n",
       "      <td>2018-05-18</td>\n",
       "    </tr>\n",
       "    <tr>\n",
       "      <th>...</th>\n",
       "      <td>...</td>\n",
       "      <td>...</td>\n",
       "      <td>...</td>\n",
       "      <td>...</td>\n",
       "      <td>...</td>\n",
       "      <td>...</td>\n",
       "      <td>...</td>\n",
       "      <td>...</td>\n",
       "      <td>...</td>\n",
       "      <td>...</td>\n",
       "      <td>...</td>\n",
       "      <td>...</td>\n",
       "      <td>...</td>\n",
       "    </tr>\n",
       "    <tr>\n",
       "      <th>2020-01-28 23:39:00</th>\n",
       "      <td>66.9</td>\n",
       "      <td>59.9</td>\n",
       "      <td>78</td>\n",
       "      <td>WNW</td>\n",
       "      <td>1.3</td>\n",
       "      <td>1.7</td>\n",
       "      <td>29.64</td>\n",
       "      <td>0.0</td>\n",
       "      <td>0.0</td>\n",
       "      <td>0</td>\n",
       "      <td>NaN</td>\n",
       "      <td>ICALAMUC3</td>\n",
       "      <td>2020-01-28</td>\n",
       "    </tr>\n",
       "    <tr>\n",
       "      <th>2020-01-28 23:44:00</th>\n",
       "      <td>66.8</td>\n",
       "      <td>59.9</td>\n",
       "      <td>78</td>\n",
       "      <td>West</td>\n",
       "      <td>0.8</td>\n",
       "      <td>1.2</td>\n",
       "      <td>29.64</td>\n",
       "      <td>0.0</td>\n",
       "      <td>0.0</td>\n",
       "      <td>0</td>\n",
       "      <td>NaN</td>\n",
       "      <td>ICALAMUC3</td>\n",
       "      <td>2020-01-28</td>\n",
       "    </tr>\n",
       "    <tr>\n",
       "      <th>2020-01-28 23:49:00</th>\n",
       "      <td>66.8</td>\n",
       "      <td>60.2</td>\n",
       "      <td>79</td>\n",
       "      <td>South</td>\n",
       "      <td>0.2</td>\n",
       "      <td>0.6</td>\n",
       "      <td>29.65</td>\n",
       "      <td>0.0</td>\n",
       "      <td>0.0</td>\n",
       "      <td>0</td>\n",
       "      <td>NaN</td>\n",
       "      <td>ICALAMUC3</td>\n",
       "      <td>2020-01-28</td>\n",
       "    </tr>\n",
       "    <tr>\n",
       "      <th>2020-01-28 23:54:00</th>\n",
       "      <td>66.5</td>\n",
       "      <td>60.0</td>\n",
       "      <td>79</td>\n",
       "      <td>ESE</td>\n",
       "      <td>0.2</td>\n",
       "      <td>0.6</td>\n",
       "      <td>29.65</td>\n",
       "      <td>0.0</td>\n",
       "      <td>0.0</td>\n",
       "      <td>0</td>\n",
       "      <td>NaN</td>\n",
       "      <td>ICALAMUC3</td>\n",
       "      <td>2020-01-28</td>\n",
       "    </tr>\n",
       "    <tr>\n",
       "      <th>2020-01-28 23:59:00</th>\n",
       "      <td>66.4</td>\n",
       "      <td>60.0</td>\n",
       "      <td>80</td>\n",
       "      <td>ESE</td>\n",
       "      <td>0.9</td>\n",
       "      <td>1.3</td>\n",
       "      <td>29.65</td>\n",
       "      <td>0.0</td>\n",
       "      <td>0.0</td>\n",
       "      <td>0</td>\n",
       "      <td>NaN</td>\n",
       "      <td>ICALAMUC3</td>\n",
       "      <td>2020-01-28</td>\n",
       "    </tr>\n",
       "  </tbody>\n",
       "</table>\n",
       "<p>155023 rows × 13 columns</p>\n",
       "</div>"
      ],
      "text/plain": [
       "                     Temperature[C]  Dew Point[C]  Humidity[%]   Wind  \\\n",
       "Time                                                                    \n",
       "2018-05-18 12:28:00            59.0          41.0           51     SE   \n",
       "2018-05-18 16:27:00            59.4          41.7           52    SSE   \n",
       "2018-05-18 16:34:00            58.6          41.1           52     SE   \n",
       "2018-05-18 16:36:00            59.0          40.5           50    SSE   \n",
       "2018-05-18 16:41:00            59.0          41.0           51  South   \n",
       "...                             ...           ...          ...    ...   \n",
       "2020-01-28 23:39:00            66.9          59.9           78    WNW   \n",
       "2020-01-28 23:44:00            66.8          59.9           78   West   \n",
       "2020-01-28 23:49:00            66.8          60.2           79  South   \n",
       "2020-01-28 23:54:00            66.5          60.0           79    ESE   \n",
       "2020-01-28 23:59:00            66.4          60.0           80    ESE   \n",
       "\n",
       "                     Speed[km/h]  Gust[km/h]  Pressure[hPa]  \\\n",
       "Time                                                          \n",
       "2018-05-18 12:28:00          5.8         6.9          29.92   \n",
       "2018-05-18 16:27:00          4.0         5.8          29.92   \n",
       "2018-05-18 16:34:00          2.2         2.6          29.92   \n",
       "2018-05-18 16:36:00          3.8         5.8          29.92   \n",
       "2018-05-18 16:41:00          2.9         3.4          29.93   \n",
       "...                          ...         ...            ...   \n",
       "2020-01-28 23:39:00          1.3         1.7          29.64   \n",
       "2020-01-28 23:44:00          0.8         1.2          29.64   \n",
       "2020-01-28 23:49:00          0.2         0.6          29.65   \n",
       "2020-01-28 23:54:00          0.2         0.6          29.65   \n",
       "2020-01-28 23:59:00          0.9         1.3          29.65   \n",
       "\n",
       "                     Precip. Rate.[mm]  Precip. Accum.[mm]  UV  Solar  \\\n",
       "Time                                                                    \n",
       "2018-05-18 12:28:00                0.0                 0.0   2    NaN   \n",
       "2018-05-18 16:27:00                0.0                 0.0   2    NaN   \n",
       "2018-05-18 16:34:00                0.0                 0.0   2    NaN   \n",
       "2018-05-18 16:36:00                0.0                 0.0   2    NaN   \n",
       "2018-05-18 16:41:00                0.0                 0.0   2    NaN   \n",
       "...                                ...                 ...  ..    ...   \n",
       "2020-01-28 23:39:00                0.0                 0.0   0    NaN   \n",
       "2020-01-28 23:44:00                0.0                 0.0   0    NaN   \n",
       "2020-01-28 23:49:00                0.0                 0.0   0    NaN   \n",
       "2020-01-28 23:54:00                0.0                 0.0   0    NaN   \n",
       "2020-01-28 23:59:00                0.0                 0.0   0    NaN   \n",
       "\n",
       "                       Station        Date  \n",
       "Time                                        \n",
       "2018-05-18 12:28:00  ICALAMUC3  2018-05-18  \n",
       "2018-05-18 16:27:00  ICALAMUC3  2018-05-18  \n",
       "2018-05-18 16:34:00  ICALAMUC3  2018-05-18  \n",
       "2018-05-18 16:36:00  ICALAMUC3  2018-05-18  \n",
       "2018-05-18 16:41:00  ICALAMUC3  2018-05-18  \n",
       "...                        ...         ...  \n",
       "2020-01-28 23:39:00  ICALAMUC3  2020-01-28  \n",
       "2020-01-28 23:44:00  ICALAMUC3  2020-01-28  \n",
       "2020-01-28 23:49:00  ICALAMUC3  2020-01-28  \n",
       "2020-01-28 23:54:00  ICALAMUC3  2020-01-28  \n",
       "2020-01-28 23:59:00  ICALAMUC3  2020-01-28  \n",
       "\n",
       "[155023 rows x 13 columns]"
      ]
     },
     "execution_count": 16,
     "metadata": {},
     "output_type": "execute_result"
    }
   ],
   "source": [
    "df_wu"
   ]
  },
  {
   "cell_type": "code",
   "execution_count": 17,
   "metadata": {
    "ExecuteTime": {
     "end_time": "2020-09-24T02:10:42.173380Z",
     "start_time": "2020-09-24T02:10:42.116545Z"
    }
   },
   "outputs": [
    {
     "data": {
      "text/plain": [
       "Temperature[C]             0\n",
       "Dew Point[C]               0\n",
       "Humidity[%]                0\n",
       "Wind                     782\n",
       "Speed[km/h]                0\n",
       "Gust[km/h]                 0\n",
       "Pressure[hPa]              0\n",
       "Precip. Rate.[mm]          0\n",
       "Precip. Accum.[mm]         0\n",
       "UV                         0\n",
       "Solar                 155023\n",
       "Station                    0\n",
       "Date                       0\n",
       "dtype: int64"
      ]
     },
     "execution_count": 17,
     "metadata": {},
     "output_type": "execute_result"
    }
   ],
   "source": [
    "df_wu.isna().sum()"
   ]
  },
  {
   "cell_type": "code",
   "execution_count": 18,
   "metadata": {
    "ExecuteTime": {
     "end_time": "2020-09-24T02:10:42.694605Z",
     "start_time": "2020-09-24T02:10:42.176015Z"
    }
   },
   "outputs": [
    {
     "data": {
      "image/png": "[encoded data removed]",
      "text/plain": [
       "<Figure size 1440x720 with 1 Axes>"
      ]
     },
     "metadata": {
      "needs_background": "light"
     },
     "output_type": "display_data"
    }
   ],
   "source": [
    "plt.figure(figsize=(20,10))\n",
    "sns.boxplot(data=df_wu[['Precip. Accum.[mm]',\n",
    "                        'Temperature[C]',\n",
    "                        'Humidity[%]',\n",
    "                        'Speed[km/h]']],color='blue')\n",
    "plt.xlabel('Variables')\n",
    "plt.title('Diagrama de Cajas Variables Icalacum3')\n",
    "plt.xticks(rotation=45)\n",
    "sns.despine()"
   ]
  },
  {
   "cell_type": "code",
   "execution_count": 19,
   "metadata": {
    "ExecuteTime": {
     "end_time": "2020-09-24T02:10:43.051537Z",
     "start_time": "2020-09-24T02:10:42.696679Z"
    }
   },
   "outputs": [
    {
     "data": {
      "image/png": "[encoded data removed]",
      "text/plain": [
       "<Figure size 1440x720 with 1 Axes>"
      ]
     },
     "metadata": {
      "needs_background": "light"
     },
     "output_type": "display_data"
    }
   ],
   "source": [
    "plt.figure(figsize=(20,10))\n",
    "sns.boxplot(data=aprhi[['Lluvia_[mm]',\n",
    "                        'Temperatura_[Celsius]',\n",
    "                        'HumedadRel_[porc]',\n",
    "                        'RafagaViento_[KpH]']],color='green')\n",
    "plt.xlabel('Variables')\n",
    "plt.title('Diagrama de Cajas Variables Santa Rosa de Calamuchita')\n",
    "plt.xticks(rotation=45)\n",
    "sns.despine()"
   ]
  },
  {
   "cell_type": "markdown",
   "metadata": {},
   "source": [
    "## 3. Análisis y curación de datos de un Excel y un TXT\n",
    "\n",
    "Referencias GLDAS: https://ldas.gsfc.nasa.gov/gldas\n",
    "Referencias IMERG: https://disasters.nasa.gov/instruments/imerg\n",
    "\n",
    "  1. Leer los datos de GLDAS_SantaRosa.xlsx para el período 1/Mayo/2018 al 31/Abril/2020.\n",
    "  2. Leer los datos de IMERG_SantaRosa.txt para el período 1/Mayo/2018 al 31/Abril/2020.\n",
    "  3. Hacer las conversiones de unidades necesarias a GLDAS para poder compararlos con \"APRHi - Sta Rosa de Calamuchita\".\n",
    "  4. Comparar los estadísticos de estos datasets con los de \"APRHi - Sta Rosa de Calamuchita\"."
   ]
  },
  {
   "cell_type": "code",
   "execution_count": 20,
   "metadata": {
    "ExecuteTime": {
     "end_time": "2020-09-24T02:10:43.994633Z",
     "start_time": "2020-09-24T02:10:43.053137Z"
    }
   },
   "outputs": [
    {
     "data": {
      "text/html": [
       "<div>\n",
       "<style scoped>\n",
       "    .dataframe tbody tr th:only-of-type {\n",
       "        vertical-align: middle;\n",
       "    }\n",
       "\n",
       "    .dataframe tbody tr th {\n",
       "        vertical-align: top;\n",
       "    }\n",
       "\n",
       "    .dataframe thead th {\n",
       "        text-align: right;\n",
       "    }\n",
       "</style>\n",
       "<table border=\"1\" class=\"dataframe\">\n",
       "  <thead>\n",
       "    <tr style=\"text-align: right;\">\n",
       "      <th></th>\n",
       "      <th>Precip_mm</th>\n",
       "      <th>WND_mps</th>\n",
       "      <th>HMD_perc</th>\n",
       "      <th>TMP_Aire_Cels</th>\n",
       "      <th>ET_mm</th>\n",
       "      <th>Presion_hPa</th>\n",
       "      <th>Rad_Net_SW_MJpm2</th>\n",
       "      <th>Rad_Net_LW_MJpm2</th>\n",
       "      <th>HumedadSuelo_10a40cm</th>\n",
       "      <th>HumedadSuelo_0a10cm</th>\n",
       "    </tr>\n",
       "    <tr>\n",
       "      <th>Date</th>\n",
       "      <th></th>\n",
       "      <th></th>\n",
       "      <th></th>\n",
       "      <th></th>\n",
       "      <th></th>\n",
       "      <th></th>\n",
       "      <th></th>\n",
       "      <th></th>\n",
       "      <th></th>\n",
       "      <th></th>\n",
       "    </tr>\n",
       "  </thead>\n",
       "  <tbody>\n",
       "    <tr>\n",
       "      <th>2018-05-01 00:00:00</th>\n",
       "      <td>0.135</td>\n",
       "      <td>4.204</td>\n",
       "      <td>87.938</td>\n",
       "      <td>13.940</td>\n",
       "      <td>0.109</td>\n",
       "      <td>94890.477</td>\n",
       "      <td>1.152</td>\n",
       "      <td>39.873</td>\n",
       "      <td>33.644</td>\n",
       "      <td>14.751</td>\n",
       "    </tr>\n",
       "    <tr>\n",
       "      <th>2018-05-01 03:00:00</th>\n",
       "      <td>0.243</td>\n",
       "      <td>3.106</td>\n",
       "      <td>89.098</td>\n",
       "      <td>13.860</td>\n",
       "      <td>0.098</td>\n",
       "      <td>94948.945</td>\n",
       "      <td>0.000</td>\n",
       "      <td>39.999</td>\n",
       "      <td>33.813</td>\n",
       "      <td>14.733</td>\n",
       "    </tr>\n",
       "    <tr>\n",
       "      <th>2018-05-01 06:00:00</th>\n",
       "      <td>0.081</td>\n",
       "      <td>2.004</td>\n",
       "      <td>88.406</td>\n",
       "      <td>14.309</td>\n",
       "      <td>0.060</td>\n",
       "      <td>94844.109</td>\n",
       "      <td>0.000</td>\n",
       "      <td>-25.392</td>\n",
       "      <td>33.972</td>\n",
       "      <td>14.718</td>\n",
       "    </tr>\n",
       "    <tr>\n",
       "      <th>2018-05-01 09:00:00</th>\n",
       "      <td>0.089</td>\n",
       "      <td>1.405</td>\n",
       "      <td>89.872</td>\n",
       "      <td>14.585</td>\n",
       "      <td>0.048</td>\n",
       "      <td>94740.156</td>\n",
       "      <td>0.000</td>\n",
       "      <td>-4.457</td>\n",
       "      <td>34.122</td>\n",
       "      <td>14.704</td>\n",
       "    </tr>\n",
       "    <tr>\n",
       "      <th>2018-05-01 12:00:00</th>\n",
       "      <td>0.073</td>\n",
       "      <td>1.708</td>\n",
       "      <td>88.020</td>\n",
       "      <td>14.610</td>\n",
       "      <td>0.061</td>\n",
       "      <td>94789.625</td>\n",
       "      <td>64.728</td>\n",
       "      <td>-8.652</td>\n",
       "      <td>34.262</td>\n",
       "      <td>14.688</td>\n",
       "    </tr>\n",
       "  </tbody>\n",
       "</table>\n",
       "</div>"
      ],
      "text/plain": [
       "                     Precip_mm  WND_mps  HMD_perc  TMP_Aire_Cels  ET_mm  \\\n",
       "Date                                                                      \n",
       "2018-05-01 00:00:00      0.135    4.204    87.938         13.940  0.109   \n",
       "2018-05-01 03:00:00      0.243    3.106    89.098         13.860  0.098   \n",
       "2018-05-01 06:00:00      0.081    2.004    88.406         14.309  0.060   \n",
       "2018-05-01 09:00:00      0.089    1.405    89.872         14.585  0.048   \n",
       "2018-05-01 12:00:00      0.073    1.708    88.020         14.610  0.061   \n",
       "\n",
       "                     Presion_hPa  Rad_Net_SW_MJpm2  Rad_Net_LW_MJpm2  \\\n",
       "Date                                                                   \n",
       "2018-05-01 00:00:00    94890.477             1.152            39.873   \n",
       "2018-05-01 03:00:00    94948.945             0.000            39.999   \n",
       "2018-05-01 06:00:00    94844.109             0.000           -25.392   \n",
       "2018-05-01 09:00:00    94740.156             0.000            -4.457   \n",
       "2018-05-01 12:00:00    94789.625            64.728            -8.652   \n",
       "\n",
       "                     HumedadSuelo_10a40cm  HumedadSuelo_0a10cm  \n",
       "Date                                                            \n",
       "2018-05-01 00:00:00                33.644               14.751  \n",
       "2018-05-01 03:00:00                33.813               14.733  \n",
       "2018-05-01 06:00:00                33.972               14.718  \n",
       "2018-05-01 09:00:00                34.122               14.704  \n",
       "2018-05-01 12:00:00                34.262               14.688  "
      ]
     },
     "execution_count": 20,
     "metadata": {},
     "output_type": "execute_result"
    }
   ],
   "source": [
    "gldas_sta_rosa = pd.read_excel('dataset/Datos_Meteorologicos/GLDAS_SantaRosa.xlsx',\n",
    "                               parse_dates=True,\n",
    "                               index_col='Date')\n",
    "gldas_sta_rosa.head()"
   ]
  },
  {
   "cell_type": "code",
   "execution_count": 21,
   "metadata": {
    "ExecuteTime": {
     "end_time": "2020-09-24T02:10:48.041646Z",
     "start_time": "2020-09-24T02:10:43.996717Z"
    }
   },
   "outputs": [
    {
     "data": {
      "text/html": [
       "<div>\n",
       "<style scoped>\n",
       "    .dataframe tbody tr th:only-of-type {\n",
       "        vertical-align: middle;\n",
       "    }\n",
       "\n",
       "    .dataframe tbody tr th {\n",
       "        vertical-align: top;\n",
       "    }\n",
       "\n",
       "    .dataframe thead th {\n",
       "        text-align: right;\n",
       "    }\n",
       "</style>\n",
       "<table border=\"1\" class=\"dataframe\">\n",
       "  <thead>\n",
       "    <tr style=\"text-align: right;\">\n",
       "      <th></th>\n",
       "      <th>Precip_mm</th>\n",
       "    </tr>\n",
       "    <tr>\n",
       "      <th>Date</th>\n",
       "      <th></th>\n",
       "    </tr>\n",
       "  </thead>\n",
       "  <tbody>\n",
       "    <tr>\n",
       "      <th>2018-05-01 00:00:00</th>\n",
       "      <td>0.000</td>\n",
       "    </tr>\n",
       "    <tr>\n",
       "      <th>2018-05-01 00:30:00</th>\n",
       "      <td>0.003</td>\n",
       "    </tr>\n",
       "    <tr>\n",
       "      <th>2018-05-01 01:00:00</th>\n",
       "      <td>0.000</td>\n",
       "    </tr>\n",
       "    <tr>\n",
       "      <th>2018-05-01 01:30:00</th>\n",
       "      <td>0.000</td>\n",
       "    </tr>\n",
       "    <tr>\n",
       "      <th>2018-05-01 02:00:00</th>\n",
       "      <td>0.000</td>\n",
       "    </tr>\n",
       "  </tbody>\n",
       "</table>\n",
       "</div>"
      ],
      "text/plain": [
       "                     Precip_mm\n",
       "Date                          \n",
       "2018-05-01 00:00:00      0.000\n",
       "2018-05-01 00:30:00      0.003\n",
       "2018-05-01 01:00:00      0.000\n",
       "2018-05-01 01:30:00      0.000\n",
       "2018-05-01 02:00:00      0.000"
      ]
     },
     "execution_count": 21,
     "metadata": {},
     "output_type": "execute_result"
    }
   ],
   "source": [
    "imerg_santa_rosa = pd.read_csv('dataset/Datos_Meteorologicos/IMERG_SantaRosa.txt',sep='\\t',parse_dates=True,index_col='Date')\n",
    "# imerg_santa_rosa.index = imerg_santa_rosa.index.date\n",
    "imerg_santa_rosa.head()"
   ]
  },
  {
   "cell_type": "code",
   "execution_count": 22,
   "metadata": {
    "ExecuteTime": {
     "end_time": "2020-09-24T02:10:48.050225Z",
     "start_time": "2020-09-24T02:10:48.044117Z"
    }
   },
   "outputs": [],
   "source": [
    "gldas_sta_rosa['WND_mps'] = gldas_sta_rosa['WND_mps'].apply(lambda x: x * 3600 / 1000)"
   ]
  },
  {
   "cell_type": "code",
   "execution_count": 23,
   "metadata": {
    "ExecuteTime": {
     "end_time": "2020-09-24T02:10:48.058543Z",
     "start_time": "2020-09-24T02:10:48.052130Z"
    }
   },
   "outputs": [],
   "source": [
    "gldas_sta_rosa = gldas_sta_rosa.rename(columns={\n",
    "    'Precip_mm': 'Lluvia_[mm]',\n",
    "    'TMP_Aire_Cels': 'Temperatura_[Celsius]',\n",
    "    'WND_mps': 'VelocidadViento_[KpH]',\n",
    "})"
   ]
  },
  {
   "cell_type": "code",
   "execution_count": 24,
   "metadata": {
    "ExecuteTime": {
     "end_time": "2020-09-24T02:10:48.330488Z",
     "start_time": "2020-09-24T02:10:48.060000Z"
    }
   },
   "outputs": [
    {
     "data": {
      "text/plain": [
       "(array([423648, 425112, 427320, 429528, 431688, 433872, 436080, 438288,\n",
       "        440472, 441132]),\n",
       " <a list of 10 Text xticklabel objects>)"
      ]
     },
     "execution_count": 24,
     "metadata": {},
     "output_type": "execute_result"
    },
    {
     "data": {
      "image/png": "[encoded data removed]",
      "text/plain": [
       "<Figure size 432x288 with 1 Axes>"
      ]
     },
     "metadata": {
      "needs_background": "light"
     },
     "output_type": "display_data"
    }
   ],
   "source": [
    "gldas_sta_rosa['Lluvia_[mm]'].plot()\n",
    "plt.xticks(rotation=45)"
   ]
  },
  {
   "cell_type": "code",
   "execution_count": 25,
   "metadata": {
    "ExecuteTime": {
     "end_time": "2020-09-24T02:10:48.558838Z",
     "start_time": "2020-09-24T02:10:48.332326Z"
    }
   },
   "outputs": [
    {
     "data": {
      "image/png": "[encoded data removed]",
      "text/plain": [
       "<Figure size 1440x720 with 1 Axes>"
      ]
     },
     "metadata": {
      "needs_background": "light"
     },
     "output_type": "display_data"
    }
   ],
   "source": [
    "plt.figure(figsize=(20,10))\n",
    "sns.boxplot(data=imerg_santa_rosa[['Precip_mm']],color='pink')\n",
    "plt.xlabel('Variables')\n",
    "plt.title('Diagrama de Cajas Variables IMERG - Santa Rosa de Calamuchita')\n",
    "plt.xticks(rotation=45)\n",
    "sns.despine()"
   ]
  },
  {
   "cell_type": "code",
   "execution_count": 26,
   "metadata": {
    "ExecuteTime": {
     "end_time": "2020-09-24T02:10:48.836473Z",
     "start_time": "2020-09-24T02:10:48.560222Z"
    }
   },
   "outputs": [
    {
     "data": {
      "image/png": "[encoded data removed]",
      "text/plain": [
       "<Figure size 1440x720 with 1 Axes>"
      ]
     },
     "metadata": {
      "needs_background": "light"
     },
     "output_type": "display_data"
    }
   ],
   "source": [
    "plt.figure(figsize=(20,10))\n",
    "sns.boxplot(data=gldas_sta_rosa[['Lluvia_[mm]',\n",
    "                                 'Temperatura_[Celsius]',\n",
    "                                 'HMD_perc',\n",
    "                                 'VelocidadViento_[KpH]']],color='yellow')\n",
    "plt.xlabel('Variables')\n",
    "plt.title('Diagrama de Cajas Variables Santa Rosa de Calamuchita')\n",
    "plt.xticks(rotation=45)\n",
    "sns.despine()"
   ]
  },
  {
   "cell_type": "markdown",
   "metadata": {},
   "source": [
    "\n",
    "## 4. Rellenar datos faltantes\n",
    "  1. ¿De todos los datasets comparados, para cada variable cuál se parece más a los de \"APRHi - Sta Rosa de Calamuchita\"?"
   ]
  },
  {
   "cell_type": "markdown",
   "metadata": {},
   "source": [
    "- Para **lluvias** el dataset mas parecido es el que corresponde al dataframe de **imberg**.\n",
    "- Para la **Temperatura** el dataset mas parecido es el de **GLDAS**\n",
    "- Para la **Humedad** el dataset mas parecido es el de **wunderground**.\n",
    "- Para la **velocidad del viento** el dataset mas parecido es el de **GLDAS** (aunque el de wunderground podria ser util tmb)"
   ]
  },
  {
   "cell_type": "code",
   "execution_count": 27,
   "metadata": {
    "ExecuteTime": {
     "end_time": "2020-09-24T02:10:48.869931Z",
     "start_time": "2020-09-24T02:10:48.838445Z"
    }
   },
   "outputs": [
    {
     "data": {
      "text/html": [
       "<div>\n",
       "<style scoped>\n",
       "    .dataframe tbody tr th:only-of-type {\n",
       "        vertical-align: middle;\n",
       "    }\n",
       "\n",
       "    .dataframe tbody tr th {\n",
       "        vertical-align: top;\n",
       "    }\n",
       "\n",
       "    .dataframe thead th {\n",
       "        text-align: right;\n",
       "    }\n",
       "</style>\n",
       "<table border=\"1\" class=\"dataframe\">\n",
       "  <thead>\n",
       "    <tr style=\"text-align: right;\">\n",
       "      <th></th>\n",
       "      <th>precipAccumulation</th>\n",
       "      <th>humidity</th>\n",
       "      <th>pressure</th>\n",
       "      <th>windSpeed</th>\n",
       "      <th>uvIndex</th>\n",
       "      <th>temperatureMax</th>\n",
       "    </tr>\n",
       "  </thead>\n",
       "  <tbody>\n",
       "    <tr>\n",
       "      <th>count</th>\n",
       "      <td>442.000000</td>\n",
       "      <td>495.000000</td>\n",
       "      <td>495.000000</td>\n",
       "      <td>495.000000</td>\n",
       "      <td>495.000000</td>\n",
       "      <td>495.000000</td>\n",
       "    </tr>\n",
       "    <tr>\n",
       "      <th>mean</th>\n",
       "      <td>1.490045</td>\n",
       "      <td>48.917172</td>\n",
       "      <td>987.963636</td>\n",
       "      <td>27.209232</td>\n",
       "      <td>1.907071</td>\n",
       "      <td>-3.232040</td>\n",
       "    </tr>\n",
       "    <tr>\n",
       "      <th>std</th>\n",
       "      <td>9.316393</td>\n",
       "      <td>16.955503</td>\n",
       "      <td>11.578374</td>\n",
       "      <td>11.295848</td>\n",
       "      <td>1.603214</td>\n",
       "      <td>6.196615</td>\n",
       "    </tr>\n",
       "    <tr>\n",
       "      <th>min</th>\n",
       "      <td>0.000000</td>\n",
       "      <td>9.000000</td>\n",
       "      <td>947.700000</td>\n",
       "      <td>3.180000</td>\n",
       "      <td>0.000000</td>\n",
       "      <td>-24.390000</td>\n",
       "    </tr>\n",
       "    <tr>\n",
       "      <th>25%</th>\n",
       "      <td>0.300000</td>\n",
       "      <td>38.000000</td>\n",
       "      <td>980.400000</td>\n",
       "      <td>18.675000</td>\n",
       "      <td>0.000000</td>\n",
       "      <td>-5.730000</td>\n",
       "    </tr>\n",
       "    <tr>\n",
       "      <th>50%</th>\n",
       "      <td>0.500000</td>\n",
       "      <td>55.000000</td>\n",
       "      <td>988.500000</td>\n",
       "      <td>25.550000</td>\n",
       "      <td>2.000000</td>\n",
       "      <td>-0.270000</td>\n",
       "    </tr>\n",
       "    <tr>\n",
       "      <th>75%</th>\n",
       "      <td>1.300000</td>\n",
       "      <td>62.000000</td>\n",
       "      <td>995.900000</td>\n",
       "      <td>35.515000</td>\n",
       "      <td>3.000000</td>\n",
       "      <td>0.755000</td>\n",
       "    </tr>\n",
       "    <tr>\n",
       "      <th>max</th>\n",
       "      <td>194.600000</td>\n",
       "      <td>71.000000</td>\n",
       "      <td>1020.500000</td>\n",
       "      <td>61.930000</td>\n",
       "      <td>6.000000</td>\n",
       "      <td>3.190000</td>\n",
       "    </tr>\n",
       "  </tbody>\n",
       "</table>\n",
       "</div>"
      ],
      "text/plain": [
       "       precipAccumulation    humidity     pressure   windSpeed     uvIndex  \\\n",
       "count          442.000000  495.000000   495.000000  495.000000  495.000000   \n",
       "mean             1.490045   48.917172   987.963636   27.209232    1.907071   \n",
       "std              9.316393   16.955503    11.578374   11.295848    1.603214   \n",
       "min              0.000000    9.000000   947.700000    3.180000    0.000000   \n",
       "25%              0.300000   38.000000   980.400000   18.675000    0.000000   \n",
       "50%              0.500000   55.000000   988.500000   25.550000    2.000000   \n",
       "75%              1.300000   62.000000   995.900000   35.515000    3.000000   \n",
       "max            194.600000   71.000000  1020.500000   61.930000    6.000000   \n",
       "\n",
       "       temperatureMax  \n",
       "count      495.000000  \n",
       "mean        -3.232040  \n",
       "std          6.196615  \n",
       "min        -24.390000  \n",
       "25%         -5.730000  \n",
       "50%         -0.270000  \n",
       "75%          0.755000  \n",
       "max          3.190000  "
      ]
     },
     "execution_count": 27,
     "metadata": {},
     "output_type": "execute_result"
    }
   ],
   "source": [
    "sta_rosa_dark_sky.describe()"
   ]
  },
  {
   "cell_type": "code",
   "execution_count": 28,
   "metadata": {
    "ExecuteTime": {
     "end_time": "2020-09-24T02:10:48.965826Z",
     "start_time": "2020-09-24T02:10:48.871531Z"
    }
   },
   "outputs": [
    {
     "data": {
      "text/html": [
       "<div>\n",
       "<style scoped>\n",
       "    .dataframe tbody tr th:only-of-type {\n",
       "        vertical-align: middle;\n",
       "    }\n",
       "\n",
       "    .dataframe tbody tr th {\n",
       "        vertical-align: top;\n",
       "    }\n",
       "\n",
       "    .dataframe thead th {\n",
       "        text-align: right;\n",
       "    }\n",
       "</style>\n",
       "<table border=\"1\" class=\"dataframe\">\n",
       "  <thead>\n",
       "    <tr style=\"text-align: right;\">\n",
       "      <th></th>\n",
       "      <th>Temperature[C]</th>\n",
       "      <th>Dew Point[C]</th>\n",
       "      <th>Humidity[%]</th>\n",
       "      <th>Speed[km/h]</th>\n",
       "      <th>Gust[km/h]</th>\n",
       "      <th>Pressure[hPa]</th>\n",
       "      <th>Precip. Rate.[mm]</th>\n",
       "      <th>Precip. Accum.[mm]</th>\n",
       "      <th>UV</th>\n",
       "      <th>Solar</th>\n",
       "    </tr>\n",
       "  </thead>\n",
       "  <tbody>\n",
       "    <tr>\n",
       "      <th>count</th>\n",
       "      <td>155023.00000</td>\n",
       "      <td>155023.000000</td>\n",
       "      <td>155023.000000</td>\n",
       "      <td>155023.000000</td>\n",
       "      <td>155023.000000</td>\n",
       "      <td>155023.000000</td>\n",
       "      <td>155023.000000</td>\n",
       "      <td>155023.000000</td>\n",
       "      <td>155023.000000</td>\n",
       "      <td>0.0</td>\n",
       "    </tr>\n",
       "    <tr>\n",
       "      <th>mean</th>\n",
       "      <td>57.46417</td>\n",
       "      <td>44.871239</td>\n",
       "      <td>67.194410</td>\n",
       "      <td>2.245475</td>\n",
       "      <td>3.084060</td>\n",
       "      <td>29.854727</td>\n",
       "      <td>0.003902</td>\n",
       "      <td>0.047879</td>\n",
       "      <td>1.099043</td>\n",
       "      <td>NaN</td>\n",
       "    </tr>\n",
       "    <tr>\n",
       "      <th>std</th>\n",
       "      <td>12.41033</td>\n",
       "      <td>13.114241</td>\n",
       "      <td>22.649646</td>\n",
       "      <td>1.817452</td>\n",
       "      <td>2.494313</td>\n",
       "      <td>0.153714</td>\n",
       "      <td>0.040771</td>\n",
       "      <td>0.217554</td>\n",
       "      <td>2.057123</td>\n",
       "      <td>NaN</td>\n",
       "    </tr>\n",
       "    <tr>\n",
       "      <th>min</th>\n",
       "      <td>24.80000</td>\n",
       "      <td>-1.400000</td>\n",
       "      <td>10.000000</td>\n",
       "      <td>0.000000</td>\n",
       "      <td>0.000000</td>\n",
       "      <td>29.320000</td>\n",
       "      <td>0.000000</td>\n",
       "      <td>0.000000</td>\n",
       "      <td>0.000000</td>\n",
       "      <td>NaN</td>\n",
       "    </tr>\n",
       "    <tr>\n",
       "      <th>25%</th>\n",
       "      <td>48.40000</td>\n",
       "      <td>35.600000</td>\n",
       "      <td>49.000000</td>\n",
       "      <td>0.900000</td>\n",
       "      <td>1.200000</td>\n",
       "      <td>29.750000</td>\n",
       "      <td>0.000000</td>\n",
       "      <td>0.000000</td>\n",
       "      <td>0.000000</td>\n",
       "      <td>NaN</td>\n",
       "    </tr>\n",
       "    <tr>\n",
       "      <th>50%</th>\n",
       "      <td>57.20000</td>\n",
       "      <td>45.700000</td>\n",
       "      <td>68.000000</td>\n",
       "      <td>1.800000</td>\n",
       "      <td>2.300000</td>\n",
       "      <td>29.850000</td>\n",
       "      <td>0.000000</td>\n",
       "      <td>0.000000</td>\n",
       "      <td>0.000000</td>\n",
       "      <td>NaN</td>\n",
       "    </tr>\n",
       "    <tr>\n",
       "      <th>75%</th>\n",
       "      <td>66.00000</td>\n",
       "      <td>55.100000</td>\n",
       "      <td>87.000000</td>\n",
       "      <td>3.300000</td>\n",
       "      <td>4.400000</td>\n",
       "      <td>29.960000</td>\n",
       "      <td>0.000000</td>\n",
       "      <td>0.000000</td>\n",
       "      <td>1.000000</td>\n",
       "      <td>NaN</td>\n",
       "    </tr>\n",
       "    <tr>\n",
       "      <th>max</th>\n",
       "      <td>93.70000</td>\n",
       "      <td>76.800000</td>\n",
       "      <td>99.000000</td>\n",
       "      <td>17.400000</td>\n",
       "      <td>22.800000</td>\n",
       "      <td>30.340000</td>\n",
       "      <td>3.120000</td>\n",
       "      <td>2.790000</td>\n",
       "      <td>11.000000</td>\n",
       "      <td>NaN</td>\n",
       "    </tr>\n",
       "  </tbody>\n",
       "</table>\n",
       "</div>"
      ],
      "text/plain": [
       "       Temperature[C]   Dew Point[C]    Humidity[%]    Speed[km/h]  \\\n",
       "count    155023.00000  155023.000000  155023.000000  155023.000000   \n",
       "mean         57.46417      44.871239      67.194410       2.245475   \n",
       "std          12.41033      13.114241      22.649646       1.817452   \n",
       "min          24.80000      -1.400000      10.000000       0.000000   \n",
       "25%          48.40000      35.600000      49.000000       0.900000   \n",
       "50%          57.20000      45.700000      68.000000       1.800000   \n",
       "75%          66.00000      55.100000      87.000000       3.300000   \n",
       "max          93.70000      76.800000      99.000000      17.400000   \n",
       "\n",
       "          Gust[km/h]  Pressure[hPa]  Precip. Rate.[mm]  Precip. Accum.[mm]  \\\n",
       "count  155023.000000  155023.000000      155023.000000       155023.000000   \n",
       "mean        3.084060      29.854727           0.003902            0.047879   \n",
       "std         2.494313       0.153714           0.040771            0.217554   \n",
       "min         0.000000      29.320000           0.000000            0.000000   \n",
       "25%         1.200000      29.750000           0.000000            0.000000   \n",
       "50%         2.300000      29.850000           0.000000            0.000000   \n",
       "75%         4.400000      29.960000           0.000000            0.000000   \n",
       "max        22.800000      30.340000           3.120000            2.790000   \n",
       "\n",
       "                  UV  Solar  \n",
       "count  155023.000000    0.0  \n",
       "mean        1.099043    NaN  \n",
       "std         2.057123    NaN  \n",
       "min         0.000000    NaN  \n",
       "25%         0.000000    NaN  \n",
       "50%         0.000000    NaN  \n",
       "75%         1.000000    NaN  \n",
       "max        11.000000    NaN  "
      ]
     },
     "execution_count": 28,
     "metadata": {},
     "output_type": "execute_result"
    }
   ],
   "source": [
    "df_wu.describe()"
   ]
  },
  {
   "cell_type": "code",
   "execution_count": 29,
   "metadata": {
    "ExecuteTime": {
     "end_time": "2020-09-24T02:10:48.980020Z",
     "start_time": "2020-09-24T02:10:48.967217Z"
    }
   },
   "outputs": [
    {
     "data": {
      "text/html": [
       "<div>\n",
       "<style scoped>\n",
       "    .dataframe tbody tr th:only-of-type {\n",
       "        vertical-align: middle;\n",
       "    }\n",
       "\n",
       "    .dataframe tbody tr th {\n",
       "        vertical-align: top;\n",
       "    }\n",
       "\n",
       "    .dataframe thead th {\n",
       "        text-align: right;\n",
       "    }\n",
       "</style>\n",
       "<table border=\"1\" class=\"dataframe\">\n",
       "  <thead>\n",
       "    <tr style=\"text-align: right;\">\n",
       "      <th></th>\n",
       "      <th>Precip_mm</th>\n",
       "    </tr>\n",
       "  </thead>\n",
       "  <tbody>\n",
       "    <tr>\n",
       "      <th>count</th>\n",
       "      <td>35088.000000</td>\n",
       "    </tr>\n",
       "    <tr>\n",
       "      <th>mean</th>\n",
       "      <td>0.093125</td>\n",
       "    </tr>\n",
       "    <tr>\n",
       "      <th>std</th>\n",
       "      <td>0.679931</td>\n",
       "    </tr>\n",
       "    <tr>\n",
       "      <th>min</th>\n",
       "      <td>0.000000</td>\n",
       "    </tr>\n",
       "    <tr>\n",
       "      <th>25%</th>\n",
       "      <td>0.000000</td>\n",
       "    </tr>\n",
       "    <tr>\n",
       "      <th>50%</th>\n",
       "      <td>0.000000</td>\n",
       "    </tr>\n",
       "    <tr>\n",
       "      <th>75%</th>\n",
       "      <td>0.000000</td>\n",
       "    </tr>\n",
       "    <tr>\n",
       "      <th>max</th>\n",
       "      <td>32.483000</td>\n",
       "    </tr>\n",
       "  </tbody>\n",
       "</table>\n",
       "</div>"
      ],
      "text/plain": [
       "          Precip_mm\n",
       "count  35088.000000\n",
       "mean       0.093125\n",
       "std        0.679931\n",
       "min        0.000000\n",
       "25%        0.000000\n",
       "50%        0.000000\n",
       "75%        0.000000\n",
       "max       32.483000"
      ]
     },
     "execution_count": 29,
     "metadata": {},
     "output_type": "execute_result"
    }
   ],
   "source": [
    "imerg_santa_rosa.describe()"
   ]
  },
  {
   "cell_type": "code",
   "execution_count": 30,
   "metadata": {
    "ExecuteTime": {
     "end_time": "2020-09-24T02:10:49.025309Z",
     "start_time": "2020-09-24T02:10:48.981270Z"
    }
   },
   "outputs": [
    {
     "data": {
      "text/html": [
       "<div>\n",
       "<style scoped>\n",
       "    .dataframe tbody tr th:only-of-type {\n",
       "        vertical-align: middle;\n",
       "    }\n",
       "\n",
       "    .dataframe tbody tr th {\n",
       "        vertical-align: top;\n",
       "    }\n",
       "\n",
       "    .dataframe thead th {\n",
       "        text-align: right;\n",
       "    }\n",
       "</style>\n",
       "<table border=\"1\" class=\"dataframe\">\n",
       "  <thead>\n",
       "    <tr style=\"text-align: right;\">\n",
       "      <th></th>\n",
       "      <th>Lluvia_[mm]</th>\n",
       "      <th>VelocidadViento_[KpH]</th>\n",
       "      <th>HMD_perc</th>\n",
       "      <th>Temperatura_[Celsius]</th>\n",
       "      <th>ET_mm</th>\n",
       "      <th>Presion_hPa</th>\n",
       "      <th>Rad_Net_SW_MJpm2</th>\n",
       "      <th>Rad_Net_LW_MJpm2</th>\n",
       "      <th>HumedadSuelo_10a40cm</th>\n",
       "      <th>HumedadSuelo_0a10cm</th>\n",
       "    </tr>\n",
       "  </thead>\n",
       "  <tbody>\n",
       "    <tr>\n",
       "      <th>count</th>\n",
       "      <td>5829.000000</td>\n",
       "      <td>5829.000000</td>\n",
       "      <td>5829.000000</td>\n",
       "      <td>5829.000000</td>\n",
       "      <td>5829.000000</td>\n",
       "      <td>5829.000000</td>\n",
       "      <td>5829.000000</td>\n",
       "      <td>5829.000000</td>\n",
       "      <td>5829.000000</td>\n",
       "      <td>5829.000000</td>\n",
       "    </tr>\n",
       "    <tr>\n",
       "      <th>mean</th>\n",
       "      <td>0.188092</td>\n",
       "      <td>11.295577</td>\n",
       "      <td>56.559237</td>\n",
       "      <td>17.415265</td>\n",
       "      <td>0.191684</td>\n",
       "      <td>94367.024061</td>\n",
       "      <td>682.569116</td>\n",
       "      <td>-214.621138</td>\n",
       "      <td>40.981126</td>\n",
       "      <td>15.808098</td>\n",
       "    </tr>\n",
       "    <tr>\n",
       "      <th>std</th>\n",
       "      <td>0.909506</td>\n",
       "      <td>6.914946</td>\n",
       "      <td>21.568029</td>\n",
       "      <td>7.191586</td>\n",
       "      <td>0.284369</td>\n",
       "      <td>566.629033</td>\n",
       "      <td>893.014669</td>\n",
       "      <td>146.362986</td>\n",
       "      <td>9.007757</td>\n",
       "      <td>4.627025</td>\n",
       "    </tr>\n",
       "    <tr>\n",
       "      <th>min</th>\n",
       "      <td>0.000000</td>\n",
       "      <td>0.014400</td>\n",
       "      <td>6.048000</td>\n",
       "      <td>-0.638000</td>\n",
       "      <td>-0.032000</td>\n",
       "      <td>92377.742000</td>\n",
       "      <td>0.000000</td>\n",
       "      <td>-701.613000</td>\n",
       "      <td>20.435000</td>\n",
       "      <td>8.503000</td>\n",
       "    </tr>\n",
       "    <tr>\n",
       "      <th>25%</th>\n",
       "      <td>0.000000</td>\n",
       "      <td>5.799600</td>\n",
       "      <td>39.487000</td>\n",
       "      <td>12.311000</td>\n",
       "      <td>0.007000</td>\n",
       "      <td>93972.398000</td>\n",
       "      <td>0.000000</td>\n",
       "      <td>-293.273000</td>\n",
       "      <td>35.229000</td>\n",
       "      <td>12.019000</td>\n",
       "    </tr>\n",
       "    <tr>\n",
       "      <th>50%</th>\n",
       "      <td>0.000000</td>\n",
       "      <td>9.738000</td>\n",
       "      <td>55.373000</td>\n",
       "      <td>17.143000</td>\n",
       "      <td>0.061000</td>\n",
       "      <td>94354.852000</td>\n",
       "      <td>162.036000</td>\n",
       "      <td>-192.377000</td>\n",
       "      <td>40.026000</td>\n",
       "      <td>15.543000</td>\n",
       "    </tr>\n",
       "    <tr>\n",
       "      <th>75%</th>\n",
       "      <td>0.000000</td>\n",
       "      <td>15.163200</td>\n",
       "      <td>73.465000</td>\n",
       "      <td>22.115000</td>\n",
       "      <td>0.247000</td>\n",
       "      <td>94741.453000</td>\n",
       "      <td>1252.584000</td>\n",
       "      <td>-110.704000</td>\n",
       "      <td>45.706000</td>\n",
       "      <td>19.018000</td>\n",
       "    </tr>\n",
       "    <tr>\n",
       "      <th>max</th>\n",
       "      <td>18.436000</td>\n",
       "      <td>42.487200</td>\n",
       "      <td>100.584000</td>\n",
       "      <td>38.960000</td>\n",
       "      <td>2.772000</td>\n",
       "      <td>96306.766000</td>\n",
       "      <td>3227.256000</td>\n",
       "      <td>84.999000</td>\n",
       "      <td>72.304000</td>\n",
       "      <td>36.533000</td>\n",
       "    </tr>\n",
       "  </tbody>\n",
       "</table>\n",
       "</div>"
      ],
      "text/plain": [
       "       Lluvia_[mm]  VelocidadViento_[KpH]     HMD_perc  Temperatura_[Celsius]  \\\n",
       "count  5829.000000            5829.000000  5829.000000            5829.000000   \n",
       "mean      0.188092              11.295577    56.559237              17.415265   \n",
       "std       0.909506               6.914946    21.568029               7.191586   \n",
       "min       0.000000               0.014400     6.048000              -0.638000   \n",
       "25%       0.000000               5.799600    39.487000              12.311000   \n",
       "50%       0.000000               9.738000    55.373000              17.143000   \n",
       "75%       0.000000              15.163200    73.465000              22.115000   \n",
       "max      18.436000              42.487200   100.584000              38.960000   \n",
       "\n",
       "             ET_mm   Presion_hPa  Rad_Net_SW_MJpm2  Rad_Net_LW_MJpm2  \\\n",
       "count  5829.000000   5829.000000       5829.000000       5829.000000   \n",
       "mean      0.191684  94367.024061        682.569116       -214.621138   \n",
       "std       0.284369    566.629033        893.014669        146.362986   \n",
       "min      -0.032000  92377.742000          0.000000       -701.613000   \n",
       "25%       0.007000  93972.398000          0.000000       -293.273000   \n",
       "50%       0.061000  94354.852000        162.036000       -192.377000   \n",
       "75%       0.247000  94741.453000       1252.584000       -110.704000   \n",
       "max       2.772000  96306.766000       3227.256000         84.999000   \n",
       "\n",
       "       HumedadSuelo_10a40cm  HumedadSuelo_0a10cm  \n",
       "count           5829.000000          5829.000000  \n",
       "mean              40.981126            15.808098  \n",
       "std                9.007757             4.627025  \n",
       "min               20.435000             8.503000  \n",
       "25%               35.229000            12.019000  \n",
       "50%               40.026000            15.543000  \n",
       "75%               45.706000            19.018000  \n",
       "max               72.304000            36.533000  "
      ]
     },
     "execution_count": 30,
     "metadata": {},
     "output_type": "execute_result"
    }
   ],
   "source": [
    "gldas_sta_rosa.describe()"
   ]
  },
  {
   "cell_type": "markdown",
   "metadata": {
    "ExecuteTime": {
     "end_time": "2020-09-04T01:03:29.652252Z",
     "start_time": "2020-09-04T01:03:29.646027Z"
    }
   },
   "source": [
    "  2. Acumular las lluvias y promediar las demás variables de \"APRHi - Sta Rosa de Calamuchita\" cada 30 minutos."
   ]
  },
  {
   "cell_type": "code",
   "execution_count": 31,
   "metadata": {
    "ExecuteTime": {
     "end_time": "2020-09-24T02:10:58.196286Z",
     "start_time": "2020-09-24T02:10:49.026696Z"
    }
   },
   "outputs": [],
   "source": [
    "aprhi30 = pd.read_csv('./dataset/Datos_Meteorologicos/APRHi - Sta Rosa de Calamuchita.csv', parse_dates=['date_time','date'])\n",
    "aprhi30['date_time'] = pd.to_datetime(aprhi30['date_time'],errors='coerce')\n",
    "aprhi30_2 = aprhi30.copy()\n",
    "aprhi30 = aprhi30.groupby(aprhi30['date_time'].dt.floor('30min')).mean()\n",
    "aprhi30_2 = aprhi30_2.groupby(aprhi30_2['date_time'].dt.floor('30min')).sum()\n",
    "aprhi30['Lluvia_[mm]'] = aprhi30_2['Lluvia_[mm]']"
   ]
  },
  {
   "cell_type": "markdown",
   "metadata": {
    "ExecuteTime": {
     "end_time": "2020-09-04T01:06:26.126858Z",
     "start_time": "2020-09-04T01:06:26.122511Z"
    }
   },
   "source": [
    "3. Interpolar los datos ya procesados de las mejores fuentes de información \"alternativas\" (salvo las lluvias), cada 30 minutos."
   ]
  },
  {
   "cell_type": "code",
   "execution_count": 32,
   "metadata": {
    "ExecuteTime": {
     "end_time": "2020-09-24T02:10:58.201789Z",
     "start_time": "2020-09-24T02:10:58.197940Z"
    }
   },
   "outputs": [],
   "source": [
    "gldas_sta_rosa = gldas_sta_rosa[['Temperatura_[Celsius]','VelocidadViento_[KpH]']]"
   ]
  },
  {
   "cell_type": "code",
   "execution_count": 33,
   "metadata": {
    "ExecuteTime": {
     "end_time": "2020-09-24T02:10:58.236417Z",
     "start_time": "2020-09-24T02:10:58.203412Z"
    }
   },
   "outputs": [
    {
     "data": {
      "text/html": [
       "<div>\n",
       "<style scoped>\n",
       "    .dataframe tbody tr th:only-of-type {\n",
       "        vertical-align: middle;\n",
       "    }\n",
       "\n",
       "    .dataframe tbody tr th {\n",
       "        vertical-align: top;\n",
       "    }\n",
       "\n",
       "    .dataframe thead th {\n",
       "        text-align: right;\n",
       "    }\n",
       "</style>\n",
       "<table border=\"1\" class=\"dataframe\">\n",
       "  <thead>\n",
       "    <tr style=\"text-align: right;\">\n",
       "      <th></th>\n",
       "      <th>Temperatura_[Celsius]</th>\n",
       "      <th>VelocidadViento_[KpH]</th>\n",
       "    </tr>\n",
       "    <tr>\n",
       "      <th>Date</th>\n",
       "      <th></th>\n",
       "      <th></th>\n",
       "    </tr>\n",
       "  </thead>\n",
       "  <tbody>\n",
       "    <tr>\n",
       "      <th>2018-05-01 00:00:00</th>\n",
       "      <td>13.94</td>\n",
       "      <td>15.1344</td>\n",
       "    </tr>\n",
       "    <tr>\n",
       "      <th>2018-05-01 00:30:00</th>\n",
       "      <td>NaN</td>\n",
       "      <td>NaN</td>\n",
       "    </tr>\n",
       "    <tr>\n",
       "      <th>2018-05-01 01:00:00</th>\n",
       "      <td>NaN</td>\n",
       "      <td>NaN</td>\n",
       "    </tr>\n",
       "    <tr>\n",
       "      <th>2018-05-01 01:30:00</th>\n",
       "      <td>NaN</td>\n",
       "      <td>NaN</td>\n",
       "    </tr>\n",
       "    <tr>\n",
       "      <th>2018-05-01 02:00:00</th>\n",
       "      <td>NaN</td>\n",
       "      <td>NaN</td>\n",
       "    </tr>\n",
       "  </tbody>\n",
       "</table>\n",
       "</div>"
      ],
      "text/plain": [
       "                     Temperatura_[Celsius]  VelocidadViento_[KpH]\n",
       "Date                                                             \n",
       "2018-05-01 00:00:00                  13.94                15.1344\n",
       "2018-05-01 00:30:00                    NaN                    NaN\n",
       "2018-05-01 01:00:00                    NaN                    NaN\n",
       "2018-05-01 01:30:00                    NaN                    NaN\n",
       "2018-05-01 02:00:00                    NaN                    NaN"
      ]
     },
     "execution_count": 33,
     "metadata": {},
     "output_type": "execute_result"
    }
   ],
   "source": [
    "gldas_resampled = gldas_sta_rosa.resample('30min').asfreq()\n",
    "gldas_resampled.head()3"
   ]
  },
  {
   "cell_type": "code",
   "execution_count": 34,
   "metadata": {
    "ExecuteTime": {
     "end_time": "2020-09-24T02:10:58.260178Z",
     "start_time": "2020-09-24T02:10:58.238376Z"
    }
   },
   "outputs": [
    {
     "data": {
      "text/html": [
       "<div>\n",
       "<style scoped>\n",
       "    .dataframe tbody tr th:only-of-type {\n",
       "        vertical-align: middle;\n",
       "    }\n",
       "\n",
       "    .dataframe tbody tr th {\n",
       "        vertical-align: top;\n",
       "    }\n",
       "\n",
       "    .dataframe thead th {\n",
       "        text-align: right;\n",
       "    }\n",
       "</style>\n",
       "<table border=\"1\" class=\"dataframe\">\n",
       "  <thead>\n",
       "    <tr style=\"text-align: right;\">\n",
       "      <th></th>\n",
       "      <th>Humidity[%]</th>\n",
       "    </tr>\n",
       "    <tr>\n",
       "      <th>Time</th>\n",
       "      <th></th>\n",
       "    </tr>\n",
       "  </thead>\n",
       "  <tbody>\n",
       "    <tr>\n",
       "      <th>2018-05-18 12:00:00</th>\n",
       "      <td>51.000000</td>\n",
       "    </tr>\n",
       "    <tr>\n",
       "      <th>2018-05-18 12:30:00</th>\n",
       "      <td>NaN</td>\n",
       "    </tr>\n",
       "    <tr>\n",
       "      <th>2018-05-18 13:00:00</th>\n",
       "      <td>NaN</td>\n",
       "    </tr>\n",
       "    <tr>\n",
       "      <th>2018-05-18 13:30:00</th>\n",
       "      <td>NaN</td>\n",
       "    </tr>\n",
       "    <tr>\n",
       "      <th>2018-05-18 14:00:00</th>\n",
       "      <td>NaN</td>\n",
       "    </tr>\n",
       "    <tr>\n",
       "      <th>...</th>\n",
       "      <td>...</td>\n",
       "    </tr>\n",
       "    <tr>\n",
       "      <th>2020-01-28 21:30:00</th>\n",
       "      <td>71.333333</td>\n",
       "    </tr>\n",
       "    <tr>\n",
       "      <th>2020-01-28 22:00:00</th>\n",
       "      <td>73.000000</td>\n",
       "    </tr>\n",
       "    <tr>\n",
       "      <th>2020-01-28 22:30:00</th>\n",
       "      <td>73.666667</td>\n",
       "    </tr>\n",
       "    <tr>\n",
       "      <th>2020-01-28 23:00:00</th>\n",
       "      <td>75.666667</td>\n",
       "    </tr>\n",
       "    <tr>\n",
       "      <th>2020-01-28 23:30:00</th>\n",
       "      <td>78.666667</td>\n",
       "    </tr>\n",
       "  </tbody>\n",
       "</table>\n",
       "<p>29784 rows × 1 columns</p>\n",
       "</div>"
      ],
      "text/plain": [
       "                     Humidity[%]\n",
       "Time                            \n",
       "2018-05-18 12:00:00    51.000000\n",
       "2018-05-18 12:30:00          NaN\n",
       "2018-05-18 13:00:00          NaN\n",
       "2018-05-18 13:30:00          NaN\n",
       "2018-05-18 14:00:00          NaN\n",
       "...                          ...\n",
       "2020-01-28 21:30:00    71.333333\n",
       "2020-01-28 22:00:00    73.000000\n",
       "2020-01-28 22:30:00    73.666667\n",
       "2020-01-28 23:00:00    75.666667\n",
       "2020-01-28 23:30:00    78.666667\n",
       "\n",
       "[29784 rows x 1 columns]"
      ]
     },
     "execution_count": 34,
     "metadata": {},
     "output_type": "execute_result"
    }
   ],
   "source": [
    "df_wu = df_wu[['Humidity[%]']].resample('30min').mean()\n",
    "df_wu"
   ]
  },
  {
   "cell_type": "markdown",
   "metadata": {},
   "source": [
    "4. Hacer lo mismo que en el punto anterior pero para la mejor fuente \"alternativa\" de lluvias, dividiendo por el número de \"time-steps\" equivalentes para llevar a cada dato a 30 minutos. (HINT: si la mejor es IMERG, no hacer nada ;D)."
   ]
  },
  {
   "cell_type": "code",
   "execution_count": 35,
   "metadata": {
    "ExecuteTime": {
     "end_time": "2020-09-24T02:10:58.272256Z",
     "start_time": "2020-09-24T02:10:58.262089Z"
    }
   },
   "outputs": [
    {
     "data": {
      "text/html": [
       "<div>\n",
       "<style scoped>\n",
       "    .dataframe tbody tr th:only-of-type {\n",
       "        vertical-align: middle;\n",
       "    }\n",
       "\n",
       "    .dataframe tbody tr th {\n",
       "        vertical-align: top;\n",
       "    }\n",
       "\n",
       "    .dataframe thead th {\n",
       "        text-align: right;\n",
       "    }\n",
       "</style>\n",
       "<table border=\"1\" class=\"dataframe\">\n",
       "  <thead>\n",
       "    <tr style=\"text-align: right;\">\n",
       "      <th></th>\n",
       "      <th>Precip_mm</th>\n",
       "    </tr>\n",
       "    <tr>\n",
       "      <th>Date</th>\n",
       "      <th></th>\n",
       "    </tr>\n",
       "  </thead>\n",
       "  <tbody>\n",
       "    <tr>\n",
       "      <th>2020-04-30 21:30:00</th>\n",
       "      <td>0.0</td>\n",
       "    </tr>\n",
       "    <tr>\n",
       "      <th>2020-04-30 22:00:00</th>\n",
       "      <td>0.0</td>\n",
       "    </tr>\n",
       "    <tr>\n",
       "      <th>2020-04-30 22:30:00</th>\n",
       "      <td>0.0</td>\n",
       "    </tr>\n",
       "    <tr>\n",
       "      <th>2020-04-30 23:00:00</th>\n",
       "      <td>0.0</td>\n",
       "    </tr>\n",
       "    <tr>\n",
       "      <th>2020-04-30 23:30:00</th>\n",
       "      <td>0.0</td>\n",
       "    </tr>\n",
       "  </tbody>\n",
       "</table>\n",
       "</div>"
      ],
      "text/plain": [
       "                     Precip_mm\n",
       "Date                          \n",
       "2020-04-30 21:30:00        0.0\n",
       "2020-04-30 22:00:00        0.0\n",
       "2020-04-30 22:30:00        0.0\n",
       "2020-04-30 23:00:00        0.0\n",
       "2020-04-30 23:30:00        0.0"
      ]
     },
     "execution_count": 35,
     "metadata": {},
     "output_type": "execute_result"
    }
   ],
   "source": [
    "imerg_santa_rosa.tail()"
   ]
  },
  {
   "cell_type": "markdown",
   "metadata": {},
   "source": [
    "5. Interpolar el dataset \"APRHi - Sta Rosa de Calamuchita\" para rellenar los huecos."
   ]
  },
  {
   "cell_type": "code",
   "execution_count": 36,
   "metadata": {
    "ExecuteTime": {
     "end_time": "2020-09-24T02:10:58.347352Z",
     "start_time": "2020-09-24T02:10:58.273962Z"
    }
   },
   "outputs": [
    {
     "data": {
      "text/html": [
       "<div>\n",
       "<style scoped>\n",
       "    .dataframe tbody tr th:only-of-type {\n",
       "        vertical-align: middle;\n",
       "    }\n",
       "\n",
       "    .dataframe tbody tr th {\n",
       "        vertical-align: top;\n",
       "    }\n",
       "\n",
       "    .dataframe thead th {\n",
       "        text-align: right;\n",
       "    }\n",
       "</style>\n",
       "<table border=\"1\" class=\"dataframe\">\n",
       "  <thead>\n",
       "    <tr style=\"text-align: right;\">\n",
       "      <th></th>\n",
       "      <th>Codigo</th>\n",
       "      <th>Estacion</th>\n",
       "      <th>dia</th>\n",
       "      <th>mes</th>\n",
       "      <th>anio</th>\n",
       "      <th>date</th>\n",
       "      <th>Hora</th>\n",
       "      <th>BUI_[adim]</th>\n",
       "      <th>Temperatura_[Celsius]</th>\n",
       "      <th>HumedadRel_[porc]</th>\n",
       "      <th>...</th>\n",
       "      <th>ISI_[adim]</th>\n",
       "      <th>FaseLunarAmanecerOcaso_[adim]</th>\n",
       "      <th>Alertas_Heladas_Agroapp_[adim]</th>\n",
       "      <th>Panel_Solar_[adim]</th>\n",
       "      <th>SenialGPRS_[ASU]</th>\n",
       "      <th>IndicePeligroIncendios_[adim]</th>\n",
       "      <th>FFMC_[adim]</th>\n",
       "      <th>DMC_[adim]</th>\n",
       "      <th>DC_[adim]</th>\n",
       "      <th>NivelBateria_[V]</th>\n",
       "    </tr>\n",
       "    <tr>\n",
       "      <th>date_time</th>\n",
       "      <th></th>\n",
       "      <th></th>\n",
       "      <th></th>\n",
       "      <th></th>\n",
       "      <th></th>\n",
       "      <th></th>\n",
       "      <th></th>\n",
       "      <th></th>\n",
       "      <th></th>\n",
       "      <th></th>\n",
       "      <th></th>\n",
       "      <th></th>\n",
       "      <th></th>\n",
       "      <th></th>\n",
       "      <th></th>\n",
       "      <th></th>\n",
       "      <th></th>\n",
       "      <th></th>\n",
       "      <th></th>\n",
       "      <th></th>\n",
       "      <th></th>\n",
       "    </tr>\n",
       "  </thead>\n",
       "  <tbody>\n",
       "    <tr>\n",
       "      <th>08/15/2018 13:00</th>\n",
       "      <td>30234</td>\n",
       "      <td>APRHi - Sta Rosa de Calamuchita</td>\n",
       "      <td>15</td>\n",
       "      <td>8.0</td>\n",
       "      <td>2018.0</td>\n",
       "      <td>8/15/2018</td>\n",
       "      <td>13:00</td>\n",
       "      <td>NaN</td>\n",
       "      <td>18.79</td>\n",
       "      <td>23.16</td>\n",
       "      <td>...</td>\n",
       "      <td>NaN</td>\n",
       "      <td>NaN</td>\n",
       "      <td>NaN</td>\n",
       "      <td>NaN</td>\n",
       "      <td>5.0</td>\n",
       "      <td>NaN</td>\n",
       "      <td>NaN</td>\n",
       "      <td>NaN</td>\n",
       "      <td>NaN</td>\n",
       "      <td>12.4427</td>\n",
       "    </tr>\n",
       "    <tr>\n",
       "      <th>08/15/2018 13:20</th>\n",
       "      <td>30234</td>\n",
       "      <td>APRHi - Sta Rosa de Calamuchita</td>\n",
       "      <td>15</td>\n",
       "      <td>8.0</td>\n",
       "      <td>2018.0</td>\n",
       "      <td>8/15/2018</td>\n",
       "      <td>13:20</td>\n",
       "      <td>NaN</td>\n",
       "      <td>18.43</td>\n",
       "      <td>22.92</td>\n",
       "      <td>...</td>\n",
       "      <td>NaN</td>\n",
       "      <td>NaN</td>\n",
       "      <td>NaN</td>\n",
       "      <td>NaN</td>\n",
       "      <td>6.0</td>\n",
       "      <td>NaN</td>\n",
       "      <td>NaN</td>\n",
       "      <td>NaN</td>\n",
       "      <td>NaN</td>\n",
       "      <td>13.1446</td>\n",
       "    </tr>\n",
       "    <tr>\n",
       "      <th>08/15/2018 13:30</th>\n",
       "      <td>30234</td>\n",
       "      <td>APRHi - Sta Rosa de Calamuchita</td>\n",
       "      <td>15</td>\n",
       "      <td>8.0</td>\n",
       "      <td>2018.0</td>\n",
       "      <td>8/15/2018</td>\n",
       "      <td>13:30</td>\n",
       "      <td>NaN</td>\n",
       "      <td>18.01</td>\n",
       "      <td>24.00</td>\n",
       "      <td>...</td>\n",
       "      <td>NaN</td>\n",
       "      <td>NaN</td>\n",
       "      <td>NaN</td>\n",
       "      <td>NaN</td>\n",
       "      <td>6.0</td>\n",
       "      <td>NaN</td>\n",
       "      <td>NaN</td>\n",
       "      <td>NaN</td>\n",
       "      <td>NaN</td>\n",
       "      <td>13.1446</td>\n",
       "    </tr>\n",
       "    <tr>\n",
       "      <th>08/15/2018 13:40</th>\n",
       "      <td>30234</td>\n",
       "      <td>APRHi - Sta Rosa de Calamuchita</td>\n",
       "      <td>15</td>\n",
       "      <td>8.0</td>\n",
       "      <td>2018.0</td>\n",
       "      <td>8/15/2018</td>\n",
       "      <td>13:40</td>\n",
       "      <td>NaN</td>\n",
       "      <td>18.19</td>\n",
       "      <td>23.98</td>\n",
       "      <td>...</td>\n",
       "      <td>NaN</td>\n",
       "      <td>NaN</td>\n",
       "      <td>NaN</td>\n",
       "      <td>NaN</td>\n",
       "      <td>6.0</td>\n",
       "      <td>NaN</td>\n",
       "      <td>NaN</td>\n",
       "      <td>NaN</td>\n",
       "      <td>NaN</td>\n",
       "      <td>13.1658</td>\n",
       "    </tr>\n",
       "    <tr>\n",
       "      <th>08/15/2018 13:50</th>\n",
       "      <td>30234</td>\n",
       "      <td>APRHi - Sta Rosa de Calamuchita</td>\n",
       "      <td>15</td>\n",
       "      <td>8.0</td>\n",
       "      <td>2018.0</td>\n",
       "      <td>8/15/2018</td>\n",
       "      <td>13:50</td>\n",
       "      <td>NaN</td>\n",
       "      <td>18.31</td>\n",
       "      <td>23.17</td>\n",
       "      <td>...</td>\n",
       "      <td>NaN</td>\n",
       "      <td>NaN</td>\n",
       "      <td>NaN</td>\n",
       "      <td>NaN</td>\n",
       "      <td>6.0</td>\n",
       "      <td>NaN</td>\n",
       "      <td>NaN</td>\n",
       "      <td>NaN</td>\n",
       "      <td>NaN</td>\n",
       "      <td>13.1658</td>\n",
       "    </tr>\n",
       "    <tr>\n",
       "      <th>...</th>\n",
       "      <td>...</td>\n",
       "      <td>...</td>\n",
       "      <td>...</td>\n",
       "      <td>...</td>\n",
       "      <td>...</td>\n",
       "      <td>...</td>\n",
       "      <td>...</td>\n",
       "      <td>...</td>\n",
       "      <td>...</td>\n",
       "      <td>...</td>\n",
       "      <td>...</td>\n",
       "      <td>...</td>\n",
       "      <td>...</td>\n",
       "      <td>...</td>\n",
       "      <td>...</td>\n",
       "      <td>...</td>\n",
       "      <td>...</td>\n",
       "      <td>...</td>\n",
       "      <td>...</td>\n",
       "      <td>...</td>\n",
       "      <td>...</td>\n",
       "    </tr>\n",
       "    <tr>\n",
       "      <th>05/18/2020 17:20</th>\n",
       "      <td>30234</td>\n",
       "      <td>APRHi - Sta Rosa de Calamuchita</td>\n",
       "      <td>18</td>\n",
       "      <td>5.0</td>\n",
       "      <td>2020.0</td>\n",
       "      <td>5/18/2020</td>\n",
       "      <td>17:20</td>\n",
       "      <td>NaN</td>\n",
       "      <td>27.00</td>\n",
       "      <td>22.09</td>\n",
       "      <td>...</td>\n",
       "      <td>NaN</td>\n",
       "      <td>NaN</td>\n",
       "      <td>NaN</td>\n",
       "      <td>NaN</td>\n",
       "      <td>5.0</td>\n",
       "      <td>NaN</td>\n",
       "      <td>NaN</td>\n",
       "      <td>NaN</td>\n",
       "      <td>NaN</td>\n",
       "      <td>12.8255</td>\n",
       "    </tr>\n",
       "    <tr>\n",
       "      <th>05/18/2020 17:30</th>\n",
       "      <td>30234</td>\n",
       "      <td>APRHi - Sta Rosa de Calamuchita</td>\n",
       "      <td>18</td>\n",
       "      <td>5.0</td>\n",
       "      <td>2020.0</td>\n",
       "      <td>5/18/2020</td>\n",
       "      <td>17:30</td>\n",
       "      <td>NaN</td>\n",
       "      <td>26.68</td>\n",
       "      <td>22.29</td>\n",
       "      <td>...</td>\n",
       "      <td>NaN</td>\n",
       "      <td>NaN</td>\n",
       "      <td>NaN</td>\n",
       "      <td>NaN</td>\n",
       "      <td>5.0</td>\n",
       "      <td>NaN</td>\n",
       "      <td>NaN</td>\n",
       "      <td>NaN</td>\n",
       "      <td>NaN</td>\n",
       "      <td>12.8255</td>\n",
       "    </tr>\n",
       "    <tr>\n",
       "      <th>05/18/2020 17:40</th>\n",
       "      <td>30234</td>\n",
       "      <td>APRHi - Sta Rosa de Calamuchita</td>\n",
       "      <td>18</td>\n",
       "      <td>5.0</td>\n",
       "      <td>2020.0</td>\n",
       "      <td>5/18/2020</td>\n",
       "      <td>17:40</td>\n",
       "      <td>NaN</td>\n",
       "      <td>26.24</td>\n",
       "      <td>22.59</td>\n",
       "      <td>...</td>\n",
       "      <td>NaN</td>\n",
       "      <td>NaN</td>\n",
       "      <td>NaN</td>\n",
       "      <td>NaN</td>\n",
       "      <td>5.0</td>\n",
       "      <td>NaN</td>\n",
       "      <td>NaN</td>\n",
       "      <td>NaN</td>\n",
       "      <td>NaN</td>\n",
       "      <td>12.8042</td>\n",
       "    </tr>\n",
       "    <tr>\n",
       "      <th>05/18/2020 17:50</th>\n",
       "      <td>30234</td>\n",
       "      <td>APRHi - Sta Rosa de Calamuchita</td>\n",
       "      <td>18</td>\n",
       "      <td>5.0</td>\n",
       "      <td>2020.0</td>\n",
       "      <td>5/18/2020</td>\n",
       "      <td>17:50</td>\n",
       "      <td>NaN</td>\n",
       "      <td>25.73</td>\n",
       "      <td>23.33</td>\n",
       "      <td>...</td>\n",
       "      <td>NaN</td>\n",
       "      <td>NaN</td>\n",
       "      <td>NaN</td>\n",
       "      <td>NaN</td>\n",
       "      <td>5.0</td>\n",
       "      <td>NaN</td>\n",
       "      <td>NaN</td>\n",
       "      <td>NaN</td>\n",
       "      <td>NaN</td>\n",
       "      <td>12.8468</td>\n",
       "    </tr>\n",
       "    <tr>\n",
       "      <th>05/18/2020 18:00</th>\n",
       "      <td>30234</td>\n",
       "      <td>APRHi - Sta Rosa de Calamuchita</td>\n",
       "      <td>18</td>\n",
       "      <td>5.0</td>\n",
       "      <td>2020.0</td>\n",
       "      <td>5/18/2020</td>\n",
       "      <td>18:00</td>\n",
       "      <td>NaN</td>\n",
       "      <td>25.04</td>\n",
       "      <td>23.54</td>\n",
       "      <td>...</td>\n",
       "      <td>NaN</td>\n",
       "      <td>NaN</td>\n",
       "      <td>NaN</td>\n",
       "      <td>NaN</td>\n",
       "      <td>5.0</td>\n",
       "      <td>NaN</td>\n",
       "      <td>NaN</td>\n",
       "      <td>NaN</td>\n",
       "      <td>NaN</td>\n",
       "      <td>12.7830</td>\n",
       "    </tr>\n",
       "  </tbody>\n",
       "</table>\n",
       "<p>92471 rows × 26 columns</p>\n",
       "</div>"
      ],
      "text/plain": [
       "                  Codigo                         Estacion  dia  mes    anio  \\\n",
       "date_time                                                                     \n",
       "08/15/2018 13:00   30234  APRHi - Sta Rosa de Calamuchita   15  8.0  2018.0   \n",
       "08/15/2018 13:20   30234  APRHi - Sta Rosa de Calamuchita   15  8.0  2018.0   \n",
       "08/15/2018 13:30   30234  APRHi - Sta Rosa de Calamuchita   15  8.0  2018.0   \n",
       "08/15/2018 13:40   30234  APRHi - Sta Rosa de Calamuchita   15  8.0  2018.0   \n",
       "08/15/2018 13:50   30234  APRHi - Sta Rosa de Calamuchita   15  8.0  2018.0   \n",
       "...                  ...                              ...  ...  ...     ...   \n",
       "05/18/2020 17:20   30234  APRHi - Sta Rosa de Calamuchita   18  5.0  2020.0   \n",
       "05/18/2020 17:30   30234  APRHi - Sta Rosa de Calamuchita   18  5.0  2020.0   \n",
       "05/18/2020 17:40   30234  APRHi - Sta Rosa de Calamuchita   18  5.0  2020.0   \n",
       "05/18/2020 17:50   30234  APRHi - Sta Rosa de Calamuchita   18  5.0  2020.0   \n",
       "05/18/2020 18:00   30234  APRHi - Sta Rosa de Calamuchita   18  5.0  2020.0   \n",
       "\n",
       "                       date   Hora  BUI_[adim]  Temperatura_[Celsius]  \\\n",
       "date_time                                                               \n",
       "08/15/2018 13:00  8/15/2018  13:00         NaN                  18.79   \n",
       "08/15/2018 13:20  8/15/2018  13:20         NaN                  18.43   \n",
       "08/15/2018 13:30  8/15/2018  13:30         NaN                  18.01   \n",
       "08/15/2018 13:40  8/15/2018  13:40         NaN                  18.19   \n",
       "08/15/2018 13:50  8/15/2018  13:50         NaN                  18.31   \n",
       "...                     ...    ...         ...                    ...   \n",
       "05/18/2020 17:20  5/18/2020  17:20         NaN                  27.00   \n",
       "05/18/2020 17:30  5/18/2020  17:30         NaN                  26.68   \n",
       "05/18/2020 17:40  5/18/2020  17:40         NaN                  26.24   \n",
       "05/18/2020 17:50  5/18/2020  17:50         NaN                  25.73   \n",
       "05/18/2020 18:00  5/18/2020  18:00         NaN                  25.04   \n",
       "\n",
       "                  HumedadRel_[porc]  ...  ISI_[adim]  \\\n",
       "date_time                            ...               \n",
       "08/15/2018 13:00              23.16  ...         NaN   \n",
       "08/15/2018 13:20              22.92  ...         NaN   \n",
       "08/15/2018 13:30              24.00  ...         NaN   \n",
       "08/15/2018 13:40              23.98  ...         NaN   \n",
       "08/15/2018 13:50              23.17  ...         NaN   \n",
       "...                             ...  ...         ...   \n",
       "05/18/2020 17:20              22.09  ...         NaN   \n",
       "05/18/2020 17:30              22.29  ...         NaN   \n",
       "05/18/2020 17:40              22.59  ...         NaN   \n",
       "05/18/2020 17:50              23.33  ...         NaN   \n",
       "05/18/2020 18:00              23.54  ...         NaN   \n",
       "\n",
       "                  FaseLunarAmanecerOcaso_[adim]  \\\n",
       "date_time                                         \n",
       "08/15/2018 13:00                            NaN   \n",
       "08/15/2018 13:20                            NaN   \n",
       "08/15/2018 13:30                            NaN   \n",
       "08/15/2018 13:40                            NaN   \n",
       "08/15/2018 13:50                            NaN   \n",
       "...                                         ...   \n",
       "05/18/2020 17:20                            NaN   \n",
       "05/18/2020 17:30                            NaN   \n",
       "05/18/2020 17:40                            NaN   \n",
       "05/18/2020 17:50                            NaN   \n",
       "05/18/2020 18:00                            NaN   \n",
       "\n",
       "                  Alertas_Heladas_Agroapp_[adim]  Panel_Solar_[adim]  \\\n",
       "date_time                                                              \n",
       "08/15/2018 13:00                             NaN                 NaN   \n",
       "08/15/2018 13:20                             NaN                 NaN   \n",
       "08/15/2018 13:30                             NaN                 NaN   \n",
       "08/15/2018 13:40                             NaN                 NaN   \n",
       "08/15/2018 13:50                             NaN                 NaN   \n",
       "...                                          ...                 ...   \n",
       "05/18/2020 17:20                             NaN                 NaN   \n",
       "05/18/2020 17:30                             NaN                 NaN   \n",
       "05/18/2020 17:40                             NaN                 NaN   \n",
       "05/18/2020 17:50                             NaN                 NaN   \n",
       "05/18/2020 18:00                             NaN                 NaN   \n",
       "\n",
       "                  SenialGPRS_[ASU]  IndicePeligroIncendios_[adim]  \\\n",
       "date_time                                                           \n",
       "08/15/2018 13:00               5.0                            NaN   \n",
       "08/15/2018 13:20               6.0                            NaN   \n",
       "08/15/2018 13:30               6.0                            NaN   \n",
       "08/15/2018 13:40               6.0                            NaN   \n",
       "08/15/2018 13:50               6.0                            NaN   \n",
       "...                            ...                            ...   \n",
       "05/18/2020 17:20               5.0                            NaN   \n",
       "05/18/2020 17:30               5.0                            NaN   \n",
       "05/18/2020 17:40               5.0                            NaN   \n",
       "05/18/2020 17:50               5.0                            NaN   \n",
       "05/18/2020 18:00               5.0                            NaN   \n",
       "\n",
       "                  FFMC_[adim]  DMC_[adim]  DC_[adim]  NivelBateria_[V]  \n",
       "date_time                                                               \n",
       "08/15/2018 13:00          NaN         NaN        NaN           12.4427  \n",
       "08/15/2018 13:20          NaN         NaN        NaN           13.1446  \n",
       "08/15/2018 13:30          NaN         NaN        NaN           13.1446  \n",
       "08/15/2018 13:40          NaN         NaN        NaN           13.1658  \n",
       "08/15/2018 13:50          NaN         NaN        NaN           13.1658  \n",
       "...                       ...         ...        ...               ...  \n",
       "05/18/2020 17:20          NaN         NaN        NaN           12.8255  \n",
       "05/18/2020 17:30          NaN         NaN        NaN           12.8255  \n",
       "05/18/2020 17:40          NaN         NaN        NaN           12.8042  \n",
       "05/18/2020 17:50          NaN         NaN        NaN           12.8468  \n",
       "05/18/2020 18:00          NaN         NaN        NaN           12.7830  \n",
       "\n",
       "[92471 rows x 26 columns]"
      ]
     },
     "execution_count": 36,
     "metadata": {},
     "output_type": "execute_result"
    }
   ],
   "source": [
    "aprhi"
   ]
  },
  {
   "cell_type": "markdown",
   "metadata": {},
   "source": [
    "6. Por otro lado, utilizar lo hecho en los punto 3 y 4 para rellenar los datos faltantes en la estación de \"APRHi - Sta Rosa de Calamuchita\"."
   ]
  },
  {
   "cell_type": "code",
   "execution_count": 37,
   "metadata": {
    "ExecuteTime": {
     "end_time": "2020-09-24T02:10:58.388934Z",
     "start_time": "2020-09-24T02:10:58.351923Z"
    }
   },
   "outputs": [],
   "source": [
    "final_df = aprhi30.merge(\n",
    "    imerg_santa_rosa, left_index=True, right_index=True\n",
    ").merge(\n",
    "    df_wu, left_index=True, right_index=True\n",
    ").merge(\n",
    "    gldas_resampled, left_index=True, right_index=True\n",
    ")"
   ]
  },
  {
   "cell_type": "code",
   "execution_count": 38,
   "metadata": {
    "ExecuteTime": {
     "end_time": "2020-09-24T02:10:58.403751Z",
     "start_time": "2020-09-24T02:10:58.395004Z"
    }
   },
   "outputs": [],
   "source": [
    "final_df['Temperatura_[Celsius]_x'].fillna(final_df['Temperatura_[Celsius]_y'], inplace=True)"
   ]
  },
  {
   "cell_type": "code",
   "execution_count": 39,
   "metadata": {
    "ExecuteTime": {
     "end_time": "2020-09-24T02:10:58.413507Z",
     "start_time": "2020-09-24T02:10:58.406369Z"
    }
   },
   "outputs": [
    {
     "data": {
      "text/plain": [
       "Index(['Codigo', 'dia', 'mes', 'anio', 'BUI_[adim]', 'Temperatura_[Celsius]_x',\n",
       "       'HumedadRel_[porc]', 'Presion_[hPa]', 'DireccionViento_[grad]',\n",
       "       'VelocidadViento_[KpH]_x', 'RadiacionSolar_[WpM2]', 'Lluvia_[mm]',\n",
       "       'RafagaViento_[KpH]', 'ISI_[adim]', 'FaseLunarAmanecerOcaso_[adim]',\n",
       "       'Alertas_Heladas_Agroapp_[adim]', 'Panel_Solar_[adim]',\n",
       "       'SenialGPRS_[ASU]', 'IndicePeligroIncendios_[adim]', 'FFMC_[adim]',\n",
       "       'DMC_[adim]', 'DC_[adim]', 'NivelBateria_[V]', 'Precip_mm',\n",
       "       'Humidity[%]', 'Temperatura_[Celsius]_y', 'VelocidadViento_[KpH]_y'],\n",
       "      dtype='object')"
      ]
     },
     "execution_count": 39,
     "metadata": {},
     "output_type": "execute_result"
    }
   ],
   "source": [
    "final_df.columns"
   ]
  },
  {
   "cell_type": "code",
   "execution_count": 40,
   "metadata": {
    "ExecuteTime": {
     "end_time": "2020-09-24T02:10:58.425181Z",
     "start_time": "2020-09-24T02:10:58.415461Z"
    }
   },
   "outputs": [],
   "source": [
    "final_df['Lluvia_[mm]'].fillna(final_df['Precip_mm'], inplace=True)\n",
    "final_df['Temperatura_[Celsius]_x'].fillna(final_df['Temperatura_[Celsius]_y'], inplace=True)\n",
    "final_df['HumedadRel_[porc]'].fillna(final_df['Humidity[%]'], inplace=True)\n",
    "final_df['VelocidadViento_[KpH]_x'].fillna(final_df['VelocidadViento_[KpH]_y'], inplace=True)"
   ]
  },
  {
   "cell_type": "code",
   "execution_count": 41,
   "metadata": {
    "ExecuteTime": {
     "end_time": "2020-09-24T02:44:49.577631Z",
     "start_time": "2020-09-24T02:44:49.559950Z"
    }
   },
   "outputs": [
    {
     "name": "stdout",
     "output_type": "stream",
     "text": [
      "<class 'pandas.core.frame.DataFrame'>\n",
      "DatetimeIndex: 15718 entries, 2018-08-15 13:00:00 to 2020-01-28 23:30:00\n",
      "Data columns (total 27 columns):\n",
      " #   Column                          Non-Null Count  Dtype  \n",
      "---  ------                          --------------  -----  \n",
      " 0   Codigo                          15718 non-null  int64  \n",
      " 1   dia                             15718 non-null  int64  \n",
      " 2   mes                             15718 non-null  float64\n",
      " 3   anio                            15718 non-null  float64\n",
      " 4   BUI_[adim]                      0 non-null      float64\n",
      " 5   Temperatura_[Celsius]_x         15718 non-null  float64\n",
      " 6   HumedadRel_[porc]               15718 non-null  float64\n",
      " 7   Presion_[hPa]                   15718 non-null  float64\n",
      " 8   DireccionViento_[grad]          15718 non-null  float64\n",
      " 9   VelocidadViento_[KpH]_x         15718 non-null  float64\n",
      " 10  RadiacionSolar_[WpM2]           15718 non-null  float64\n",
      " 11  Lluvia_[mm]                     15718 non-null  float64\n",
      " 12  RafagaViento_[KpH]              15718 non-null  float64\n",
      " 13  ISI_[adim]                      0 non-null      float64\n",
      " 14  FaseLunarAmanecerOcaso_[adim]   0 non-null      float64\n",
      " 15  Alertas_Heladas_Agroapp_[adim]  0 non-null      float64\n",
      " 16  Panel_Solar_[adim]              0 non-null      float64\n",
      " 17  SenialGPRS_[ASU]                15718 non-null  float64\n",
      " 18  IndicePeligroIncendios_[adim]   0 non-null      float64\n",
      " 19  FFMC_[adim]                     0 non-null      float64\n",
      " 20  DMC_[adim]                      0 non-null      float64\n",
      " 21  DC_[adim]                       0 non-null      float64\n",
      " 22  NivelBateria_[V]                15718 non-null  float64\n",
      " 23  Precip_mm                       15718 non-null  float64\n",
      " 24  Humidity[%]                     13202 non-null  float64\n",
      " 25  Temperatura_[Celsius]_y         2619 non-null   float64\n",
      " 26  VelocidadViento_[KpH]_y         2619 non-null   float64\n",
      "dtypes: float64(25), int64(2)\n",
      "memory usage: 3.4 MB\n"
     ]
    }
   ],
   "source": [
    "final_df.info()"
   ]
  },
  {
   "cell_type": "code",
   "execution_count": 42,
   "metadata": {
    "ExecuteTime": {
     "end_time": "2020-09-24T02:44:51.713647Z",
     "start_time": "2020-09-24T02:44:51.707731Z"
    }
   },
   "outputs": [],
   "source": [
    "final_df.drop(['BUI_[adim]',\n",
    "               'Precip_mm',\n",
    "               'Temperatura_[Celsius]_y',\n",
    "               'Humidity[%]',\n",
    "               'VelocidadViento_[KpH]_y',\n",
    "               'ISI_[adim]',\n",
    "               'FaseLunarAmanecerOcaso_[adim]',\n",
    "               'Alertas_Heladas_Agroapp_[adim]',\n",
    "               'Panel_Solar_[adim]',\n",
    "               'IndicePeligroIncendios_[adim]',\n",
    "               'FFMC_[adim]',\n",
    "               'DMC_[adim]',\n",
    "               'DC_[adim]',\n",
    "              ],axis=1, inplace=True)"
   ]
  },
  {
   "cell_type": "markdown",
   "metadata": {},
   "source": [
    "7. Exportar los dos datasets nuevos en formato csv."
   ]
  },
  {
   "cell_type": "code",
   "execution_count": 60,
   "metadata": {
    "ExecuteTime": {
     "end_time": "2020-09-24T02:56:37.409938Z",
     "start_time": "2020-09-24T02:56:37.387371Z"
    }
   },
   "outputs": [
    {
     "name": "stdout",
     "output_type": "stream",
     "text": [
      "<class 'pandas.core.frame.DataFrame'>\n",
      "DatetimeIndex: 15718 entries, 2018-08-15 13:00:00 to 2020-01-28 23:30:00\n",
      "Data columns (total 14 columns):\n",
      " #   Column                   Non-Null Count  Dtype  \n",
      "---  ------                   --------------  -----  \n",
      " 0   Codigo                   15718 non-null  int64  \n",
      " 1   dia                      15718 non-null  int64  \n",
      " 2   mes                      15718 non-null  float64\n",
      " 3   anio                     15718 non-null  float64\n",
      " 4   Temperatura_[Celsius]_x  15718 non-null  float64\n",
      " 5   HumedadRel_[porc]        15718 non-null  float64\n",
      " 6   Presion_[hPa]            15718 non-null  float64\n",
      " 7   DireccionViento_[grad]   15718 non-null  float64\n",
      " 8   VelocidadViento_[KpH]_x  15718 non-null  float64\n",
      " 9   RadiacionSolar_[WpM2]    15718 non-null  float64\n",
      " 10  Lluvia_[mm]              15718 non-null  float64\n",
      " 11  RafagaViento_[KpH]       15718 non-null  float64\n",
      " 12  SenialGPRS_[ASU]         15718 non-null  float64\n",
      " 13  NivelBateria_[V]         15718 non-null  float64\n",
      "dtypes: float64(12), int64(2)\n",
      "memory usage: 1.8 MB\n"
     ]
    }
   ],
   "source": [
    "final_df.info()"
   ]
  },
  {
   "cell_type": "code",
   "execution_count": 61,
   "metadata": {
    "ExecuteTime": {
     "end_time": "2020-09-24T02:56:47.051746Z",
     "start_time": "2020-09-24T02:56:47.020252Z"
    }
   },
   "outputs": [
    {
     "data": {
      "text/html": [
       "<div>\n",
       "<style scoped>\n",
       "    .dataframe tbody tr th:only-of-type {\n",
       "        vertical-align: middle;\n",
       "    }\n",
       "\n",
       "    .dataframe tbody tr th {\n",
       "        vertical-align: top;\n",
       "    }\n",
       "\n",
       "    .dataframe thead th {\n",
       "        text-align: right;\n",
       "    }\n",
       "</style>\n",
       "<table border=\"1\" class=\"dataframe\">\n",
       "  <thead>\n",
       "    <tr style=\"text-align: right;\">\n",
       "      <th></th>\n",
       "      <th>Codigo</th>\n",
       "      <th>dia</th>\n",
       "      <th>mes</th>\n",
       "      <th>anio</th>\n",
       "      <th>Temperatura_[Celsius]_x</th>\n",
       "      <th>HumedadRel_[porc]</th>\n",
       "      <th>Presion_[hPa]</th>\n",
       "      <th>DireccionViento_[grad]</th>\n",
       "      <th>VelocidadViento_[KpH]_x</th>\n",
       "      <th>RadiacionSolar_[WpM2]</th>\n",
       "      <th>Lluvia_[mm]</th>\n",
       "      <th>RafagaViento_[KpH]</th>\n",
       "      <th>SenialGPRS_[ASU]</th>\n",
       "      <th>NivelBateria_[V]</th>\n",
       "    </tr>\n",
       "  </thead>\n",
       "  <tbody>\n",
       "    <tr>\n",
       "      <th>2018-08-15 13:00:00</th>\n",
       "      <td>30234</td>\n",
       "      <td>15</td>\n",
       "      <td>8.0</td>\n",
       "      <td>2018.0</td>\n",
       "      <td>18.610000</td>\n",
       "      <td>23.040000</td>\n",
       "      <td>945.625000</td>\n",
       "      <td>90.0</td>\n",
       "      <td>3.158330</td>\n",
       "      <td>454.2795</td>\n",
       "      <td>0.0</td>\n",
       "      <td>6.970450</td>\n",
       "      <td>5.5</td>\n",
       "      <td>12.793650</td>\n",
       "    </tr>\n",
       "    <tr>\n",
       "      <th>2018-08-15 13:30:00</th>\n",
       "      <td>30234</td>\n",
       "      <td>15</td>\n",
       "      <td>8.0</td>\n",
       "      <td>2018.0</td>\n",
       "      <td>18.170000</td>\n",
       "      <td>23.716667</td>\n",
       "      <td>946.458333</td>\n",
       "      <td>127.5</td>\n",
       "      <td>5.216943</td>\n",
       "      <td>663.5760</td>\n",
       "      <td>4.0</td>\n",
       "      <td>15.510000</td>\n",
       "      <td>6.0</td>\n",
       "      <td>13.158733</td>\n",
       "    </tr>\n",
       "    <tr>\n",
       "      <th>2018-08-15 14:00:00</th>\n",
       "      <td>30234</td>\n",
       "      <td>15</td>\n",
       "      <td>8.0</td>\n",
       "      <td>2018.0</td>\n",
       "      <td>18.826667</td>\n",
       "      <td>22.263333</td>\n",
       "      <td>944.791667</td>\n",
       "      <td>67.5</td>\n",
       "      <td>4.606737</td>\n",
       "      <td>644.9290</td>\n",
       "      <td>0.0</td>\n",
       "      <td>14.504167</td>\n",
       "      <td>6.0</td>\n",
       "      <td>13.172933</td>\n",
       "    </tr>\n",
       "    <tr>\n",
       "      <th>2018-08-15 14:30:00</th>\n",
       "      <td>30234</td>\n",
       "      <td>15</td>\n",
       "      <td>8.0</td>\n",
       "      <td>2018.0</td>\n",
       "      <td>19.026667</td>\n",
       "      <td>22.583333</td>\n",
       "      <td>943.958333</td>\n",
       "      <td>90.0</td>\n",
       "      <td>4.526270</td>\n",
       "      <td>593.4890</td>\n",
       "      <td>0.0</td>\n",
       "      <td>12.566257</td>\n",
       "      <td>6.0</td>\n",
       "      <td>13.215467</td>\n",
       "    </tr>\n",
       "    <tr>\n",
       "      <th>2018-08-15 15:00:00</th>\n",
       "      <td>30234</td>\n",
       "      <td>15</td>\n",
       "      <td>8.0</td>\n",
       "      <td>2018.0</td>\n",
       "      <td>19.150000</td>\n",
       "      <td>21.816667</td>\n",
       "      <td>943.958333</td>\n",
       "      <td>90.0</td>\n",
       "      <td>0.000000</td>\n",
       "      <td>599.2760</td>\n",
       "      <td>0.0</td>\n",
       "      <td>0.000000</td>\n",
       "      <td>6.0</td>\n",
       "      <td>13.229633</td>\n",
       "    </tr>\n",
       "  </tbody>\n",
       "</table>\n",
       "</div>"
      ],
      "text/plain": [
       "                     Codigo  dia  mes    anio  Temperatura_[Celsius]_x  \\\n",
       "2018-08-15 13:00:00   30234   15  8.0  2018.0                18.610000   \n",
       "2018-08-15 13:30:00   30234   15  8.0  2018.0                18.170000   \n",
       "2018-08-15 14:00:00   30234   15  8.0  2018.0                18.826667   \n",
       "2018-08-15 14:30:00   30234   15  8.0  2018.0                19.026667   \n",
       "2018-08-15 15:00:00   30234   15  8.0  2018.0                19.150000   \n",
       "\n",
       "                     HumedadRel_[porc]  Presion_[hPa]  DireccionViento_[grad]  \\\n",
       "2018-08-15 13:00:00          23.040000     945.625000                    90.0   \n",
       "2018-08-15 13:30:00          23.716667     946.458333                   127.5   \n",
       "2018-08-15 14:00:00          22.263333     944.791667                    67.5   \n",
       "2018-08-15 14:30:00          22.583333     943.958333                    90.0   \n",
       "2018-08-15 15:00:00          21.816667     943.958333                    90.0   \n",
       "\n",
       "                     VelocidadViento_[KpH]_x  RadiacionSolar_[WpM2]  \\\n",
       "2018-08-15 13:00:00                 3.158330               454.2795   \n",
       "2018-08-15 13:30:00                 5.216943               663.5760   \n",
       "2018-08-15 14:00:00                 4.606737               644.9290   \n",
       "2018-08-15 14:30:00                 4.526270               593.4890   \n",
       "2018-08-15 15:00:00                 0.000000               599.2760   \n",
       "\n",
       "                     Lluvia_[mm]  RafagaViento_[KpH]  SenialGPRS_[ASU]  \\\n",
       "2018-08-15 13:00:00          0.0            6.970450               5.5   \n",
       "2018-08-15 13:30:00          4.0           15.510000               6.0   \n",
       "2018-08-15 14:00:00          0.0           14.504167               6.0   \n",
       "2018-08-15 14:30:00          0.0           12.566257               6.0   \n",
       "2018-08-15 15:00:00          0.0            0.000000               6.0   \n",
       "\n",
       "                     NivelBateria_[V]  \n",
       "2018-08-15 13:00:00         12.793650  \n",
       "2018-08-15 13:30:00         13.158733  \n",
       "2018-08-15 14:00:00         13.172933  \n",
       "2018-08-15 14:30:00         13.215467  \n",
       "2018-08-15 15:00:00         13.229633  "
      ]
     },
     "execution_count": 61,
     "metadata": {},
     "output_type": "execute_result"
    }
   ],
   "source": [
    "final_df.head()"
   ]
  },
  {
   "cell_type": "code",
   "execution_count": 62,
   "metadata": {
    "ExecuteTime": {
     "end_time": "2020-09-24T02:56:52.830210Z",
     "start_time": "2020-09-24T02:56:52.583911Z"
    }
   },
   "outputs": [],
   "source": [
    "final_df.to_csv('santa_rosa_meteo.csv')"
   ]
  },
  {
   "cell_type": "code",
   "execution_count": 68,
   "metadata": {
    "ExecuteTime": {
     "end_time": "2020-09-24T02:59:02.731079Z",
     "start_time": "2020-09-24T02:59:02.685600Z"
    }
   },
   "outputs": [],
   "source": [
    "import pandas as pd\n",
    "a = pd.read_csv('santa_rosa_meteo.csv', parse_dates=True, index_col=0)"
   ]
  },
  {
   "cell_type": "code",
   "execution_count": 70,
   "metadata": {
    "ExecuteTime": {
     "end_time": "2020-09-24T02:59:19.158592Z",
     "start_time": "2020-09-24T02:59:19.123218Z"
    }
   },
   "outputs": [
    {
     "data": {
      "text/html": [
       "<div>\n",
       "<style scoped>\n",
       "    .dataframe tbody tr th:only-of-type {\n",
       "        vertical-align: middle;\n",
       "    }\n",
       "\n",
       "    .dataframe tbody tr th {\n",
       "        vertical-align: top;\n",
       "    }\n",
       "\n",
       "    .dataframe thead th {\n",
       "        text-align: right;\n",
       "    }\n",
       "</style>\n",
       "<table border=\"1\" class=\"dataframe\">\n",
       "  <thead>\n",
       "    <tr style=\"text-align: right;\">\n",
       "      <th></th>\n",
       "      <th>Codigo</th>\n",
       "      <th>dia</th>\n",
       "      <th>mes</th>\n",
       "      <th>anio</th>\n",
       "      <th>Temperatura_[Celsius]_x</th>\n",
       "      <th>HumedadRel_[porc]</th>\n",
       "      <th>Presion_[hPa]</th>\n",
       "      <th>DireccionViento_[grad]</th>\n",
       "      <th>VelocidadViento_[KpH]_x</th>\n",
       "      <th>RadiacionSolar_[WpM2]</th>\n",
       "      <th>Lluvia_[mm]</th>\n",
       "      <th>RafagaViento_[KpH]</th>\n",
       "      <th>SenialGPRS_[ASU]</th>\n",
       "      <th>NivelBateria_[V]</th>\n",
       "    </tr>\n",
       "  </thead>\n",
       "  <tbody>\n",
       "    <tr>\n",
       "      <th>2018-08-15 13:00:00</th>\n",
       "      <td>30234</td>\n",
       "      <td>15</td>\n",
       "      <td>8.0</td>\n",
       "      <td>2018.0</td>\n",
       "      <td>18.610000</td>\n",
       "      <td>23.040000</td>\n",
       "      <td>945.625000</td>\n",
       "      <td>90.0</td>\n",
       "      <td>3.158330</td>\n",
       "      <td>454.2795</td>\n",
       "      <td>0.0</td>\n",
       "      <td>6.970450</td>\n",
       "      <td>5.5</td>\n",
       "      <td>12.793650</td>\n",
       "    </tr>\n",
       "    <tr>\n",
       "      <th>2018-08-15 13:30:00</th>\n",
       "      <td>30234</td>\n",
       "      <td>15</td>\n",
       "      <td>8.0</td>\n",
       "      <td>2018.0</td>\n",
       "      <td>18.170000</td>\n",
       "      <td>23.716667</td>\n",
       "      <td>946.458333</td>\n",
       "      <td>127.5</td>\n",
       "      <td>5.216943</td>\n",
       "      <td>663.5760</td>\n",
       "      <td>4.0</td>\n",
       "      <td>15.510000</td>\n",
       "      <td>6.0</td>\n",
       "      <td>13.158733</td>\n",
       "    </tr>\n",
       "    <tr>\n",
       "      <th>2018-08-15 14:00:00</th>\n",
       "      <td>30234</td>\n",
       "      <td>15</td>\n",
       "      <td>8.0</td>\n",
       "      <td>2018.0</td>\n",
       "      <td>18.826667</td>\n",
       "      <td>22.263333</td>\n",
       "      <td>944.791667</td>\n",
       "      <td>67.5</td>\n",
       "      <td>4.606737</td>\n",
       "      <td>644.9290</td>\n",
       "      <td>0.0</td>\n",
       "      <td>14.504167</td>\n",
       "      <td>6.0</td>\n",
       "      <td>13.172933</td>\n",
       "    </tr>\n",
       "    <tr>\n",
       "      <th>2018-08-15 14:30:00</th>\n",
       "      <td>30234</td>\n",
       "      <td>15</td>\n",
       "      <td>8.0</td>\n",
       "      <td>2018.0</td>\n",
       "      <td>19.026667</td>\n",
       "      <td>22.583333</td>\n",
       "      <td>943.958333</td>\n",
       "      <td>90.0</td>\n",
       "      <td>4.526270</td>\n",
       "      <td>593.4890</td>\n",
       "      <td>0.0</td>\n",
       "      <td>12.566257</td>\n",
       "      <td>6.0</td>\n",
       "      <td>13.215467</td>\n",
       "    </tr>\n",
       "    <tr>\n",
       "      <th>2018-08-15 15:00:00</th>\n",
       "      <td>30234</td>\n",
       "      <td>15</td>\n",
       "      <td>8.0</td>\n",
       "      <td>2018.0</td>\n",
       "      <td>19.150000</td>\n",
       "      <td>21.816667</td>\n",
       "      <td>943.958333</td>\n",
       "      <td>90.0</td>\n",
       "      <td>0.000000</td>\n",
       "      <td>599.2760</td>\n",
       "      <td>0.0</td>\n",
       "      <td>0.000000</td>\n",
       "      <td>6.0</td>\n",
       "      <td>13.229633</td>\n",
       "    </tr>\n",
       "  </tbody>\n",
       "</table>\n",
       "</div>"
      ],
      "text/plain": [
       "                     Codigo  dia  mes    anio  Temperatura_[Celsius]_x  \\\n",
       "2018-08-15 13:00:00   30234   15  8.0  2018.0                18.610000   \n",
       "2018-08-15 13:30:00   30234   15  8.0  2018.0                18.170000   \n",
       "2018-08-15 14:00:00   30234   15  8.0  2018.0                18.826667   \n",
       "2018-08-15 14:30:00   30234   15  8.0  2018.0                19.026667   \n",
       "2018-08-15 15:00:00   30234   15  8.0  2018.0                19.150000   \n",
       "\n",
       "                     HumedadRel_[porc]  Presion_[hPa]  DireccionViento_[grad]  \\\n",
       "2018-08-15 13:00:00          23.040000     945.625000                    90.0   \n",
       "2018-08-15 13:30:00          23.716667     946.458333                   127.5   \n",
       "2018-08-15 14:00:00          22.263333     944.791667                    67.5   \n",
       "2018-08-15 14:30:00          22.583333     943.958333                    90.0   \n",
       "2018-08-15 15:00:00          21.816667     943.958333                    90.0   \n",
       "\n",
       "                     VelocidadViento_[KpH]_x  RadiacionSolar_[WpM2]  \\\n",
       "2018-08-15 13:00:00                 3.158330               454.2795   \n",
       "2018-08-15 13:30:00                 5.216943               663.5760   \n",
       "2018-08-15 14:00:00                 4.606737               644.9290   \n",
       "2018-08-15 14:30:00                 4.526270               593.4890   \n",
       "2018-08-15 15:00:00                 0.000000               599.2760   \n",
       "\n",
       "                     Lluvia_[mm]  RafagaViento_[KpH]  SenialGPRS_[ASU]  \\\n",
       "2018-08-15 13:00:00          0.0            6.970450               5.5   \n",
       "2018-08-15 13:30:00          4.0           15.510000               6.0   \n",
       "2018-08-15 14:00:00          0.0           14.504167               6.0   \n",
       "2018-08-15 14:30:00          0.0           12.566257               6.0   \n",
       "2018-08-15 15:00:00          0.0            0.000000               6.0   \n",
       "\n",
       "                     NivelBateria_[V]  \n",
       "2018-08-15 13:00:00         12.793650  \n",
       "2018-08-15 13:30:00         13.158733  \n",
       "2018-08-15 14:00:00         13.172933  \n",
       "2018-08-15 14:30:00         13.215467  \n",
       "2018-08-15 15:00:00         13.229633  "
      ]
     },
     "execution_count": 70,
     "metadata": {},
     "output_type": "execute_result"
    }
   ],
   "source": [
    "a.head()"
   ]
  },
  {
   "cell_type": "code",
   "execution_count": null,
   "metadata": {},
   "outputs": [],
   "source": []
  },
  {
   "cell_type": "code",
   "execution_count": null,
   "metadata": {},
   "outputs": [],
   "source": []
  }
 ],
 "metadata": {
  "kernelspec": {
   "display_name": "Python 3",
   "language": "python",
   "name": "python3"
  },
  "language_info": {
   "codemirror_mode": {
    "name": "ipython",
    "version": 3
   },
   "file_extension": ".py",
   "mimetype": "text/x-python",
   "name": "python",
   "nbconvert_exporter": "python",
   "pygments_lexer": "ipython3",
   "version": "3.7.3"
  }
 },
 "nbformat": 4,
 "nbformat_minor": 2
}
