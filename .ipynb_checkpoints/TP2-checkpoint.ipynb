{
 "cells": [
  {
   "cell_type": "markdown",
   "metadata": {},
   "source": [
    "## CONSIGNA TP2:\n",
    "\n",
    "## 1. Análisis y curación de datos de una API - formato JSON\n",
    "\n",
    "Referencias: https://darksky.net/dev/docs\n",
    "\n",
    "  1. Extraer los datos para la localidad Santa Rosa de Calamuchita para el período 1/Mayo/2018 al 01/Mayo/2020.\n",
    "  2. ¿Existen valores faltantes? Cuantificarlos.\n",
    "  3. Generar un nuevo dataset a partir de los datos (time, summary, precipAccumulation, temperature, humidity, pressure, windSpeed, uvIndex, temperatureMin, temperatureMax.\n",
    "  4. Hacer las conversiones de unidades necesarias a estos datos para poder compararlos con \"APRHi - Sta Rosa de Calamuchita\".\n",
    "  5. Comparar los estadísticos de estos datasets con los de \"APRHi - Sta Rosa de Calamuchita\".\n",
    "\n",
    "\n",
    "## 2. Análisis y curación de datos Scrapeados de WeatherUnderground\n",
    "\n",
    "Referencias: https://www.wunderground.com/\n",
    "\n",
    "  1. Extraer los datos para la estación meteorológica personal (PWS, por siglas en inglés) \"ICALAMUC5\" (en Villa General Belgrano), para el período 1/Mayo/2018 al 01/Mayo/2020 mediante el Scrappeo de WeatherUnderground (WU).\n",
    "  2. ¿Existen valores faltantes? Cuantificarlos.\n",
    "  3. Convertir los datos faltantes en NaN.\n",
    "  4. Hacer las conversiones de unidades necesarias a estos datos para poder compararlos con \"APRHi - Sta Rosa de Calamuchita\".\n",
    "  5. Comparar los estadísticos de este dataset con los de \"APRHi - Sta Rosa de Calamuchita\".\n",
    "\n",
    "\n",
    "## 3. Análisis y curación de datos de un Excel y un TXT\n",
    "\n",
    "Referencias GLDAS: https://ldas.gsfc.nasa.gov/gldas\n",
    "Referencias IMERG: https://disasters.nasa.gov/instruments/imerg\n",
    "\n",
    "  1. Leer los datos de GLDAS_SantaRosa.xlsx para el período 1/Mayo/2018 al 31/Abril/2020.\n",
    "  2. Leer los datos de IMERG_SantaRosa.txt para el período 1/Mayo/2018 al 31/Abril/2020.\n",
    "  3. Hacer las conversiones de unidades necesarias a GLDAS para poder compararlos con \"APRHi - Sta Rosa de Calamuchita\".\n",
    "  4. Comparar los estadísticos de estos datasets con los de \"APRHi - Sta Rosa de Calamuchita\".\n",
    "  \n",
    "  \n",
    "## 4. Rellenar datos faltantes\n",
    "  1. ¿De todos los datasets comparados, para cada variable cuál se parece más a los de \"APRHi - Sta Rosa de Calamuchita\"?\n",
    "  2. Acumular las lluvias y promediar las demás variables de \"APRHi - Sta Rosa de Calamuchita\" cada 30 minutos.\n",
    "  3. Interpolar los datos ya procesados de las mejores fuentes de información \"alternativas\" (salvo las lluvias), cada 30 minutos.\n",
    "  4. Hacer lo mismo que en el punto anterior pero para la mejor fuente \"alternativa\" de lluvias, dividiendo por el número de \"time-steps\" equivalentes para llevar a cada dato a 30 minutos. (HINT: si la mejor es IMERG, no hacer nada ;D).\n",
    "  5. Interpolar el dataset \"APRHi - Sta Rosa de Calamuchita\" para rellenar los huecos.\n",
    "  6. Por otro lado, utilizar lo hecho en los punto 3 y 4 para rellenar los datos faltantes en la estación de \"APRHi - Sta Rosa de Calamuchita\".\n",
    "  7. Exportar los dos datasets nuevos en formato csv.\n"
   ]
  },
  {
   "cell_type": "markdown",
   "metadata": {},
   "source": [
    "## Ayuda Parte 1"
   ]
  },
  {
   "cell_type": "code",
   "execution_count": 1,
   "metadata": {
    "ExecuteTime": {
     "end_time": "2020-07-28T01:16:36.115697Z",
     "start_time": "2020-07-28T01:16:36.076250Z"
    }
   },
   "outputs": [],
   "source": [
    "import datetime\n",
    "import requests"
   ]
  },
  {
   "cell_type": "code",
   "execution_count": 7,
   "metadata": {
    "ExecuteTime": {
     "end_time": "2020-07-28T01:17:45.182599Z",
     "start_time": "2020-07-28T01:17:45.179685Z"
    }
   },
   "outputs": [],
   "source": [
    "baseUrl = \"https://api.darksky.net/forecast/<key>/<longitude>,<latitude>,<date>?exclude=flags,hourly&units=ca\""
   ]
  },
  {
   "cell_type": "code",
   "execution_count": 3,
   "metadata": {
    "ExecuteTime": {
     "end_time": "2020-07-28T01:17:10.544470Z",
     "start_time": "2020-07-28T01:17:10.541144Z"
    }
   },
   "outputs": [],
   "source": [
    "replacedUrl = baseUrl.replace(\"<key>\", \"9349598e9f11f5eddceb6791daa6d787\").replace(\"<longitude>\", \"-64.533333\").replace(\"<latitude>\", \"-32.066667\").replace(\"<date>\", \"1559362638\")"
   ]
  },
  {
   "cell_type": "code",
   "execution_count": 4,
   "metadata": {
    "ExecuteTime": {
     "end_time": "2020-07-28T01:17:12.104947Z",
     "start_time": "2020-07-28T01:17:11.267144Z"
    }
   },
   "outputs": [],
   "source": [
    "r = requests.get(url = replacedUrl) "
   ]
  },
  {
   "cell_type": "code",
   "execution_count": 5,
   "metadata": {
    "ExecuteTime": {
     "end_time": "2020-07-28T01:17:23.577973Z",
     "start_time": "2020-07-28T01:17:23.574861Z"
    }
   },
   "outputs": [],
   "source": [
    "data = r.json()"
   ]
  },
  {
   "cell_type": "code",
   "execution_count": 6,
   "metadata": {
    "ExecuteTime": {
     "end_time": "2020-07-28T01:17:35.158618Z",
     "start_time": "2020-07-28T01:17:35.145933Z"
    }
   },
   "outputs": [
    {
     "data": {
      "text/plain": [
       "{'latitude': -64.533333,\n",
       " 'longitude': -32.066667,\n",
       " 'timezone': 'Etc/GMT+2',\n",
       " 'currently': {'time': 1559362638,\n",
       "  'summary': 'Windy and Overcast',\n",
       "  'icon': 'wind',\n",
       "  'precipIntensity': 0.0079,\n",
       "  'precipProbability': 0.09,\n",
       "  'precipType': 'snow',\n",
       "  'precipAccumulation': 0.0209,\n",
       "  'temperature': -14.54,\n",
       "  'apparentTemperature': -27.11,\n",
       "  'dewPoint': -28.53,\n",
       "  'humidity': 0.29,\n",
       "  'pressure': 986.3,\n",
       "  'windSpeed': 42.52,\n",
       "  'windGust': 53.96,\n",
       "  'windBearing': 222,\n",
       "  'cloudCover': 1,\n",
       "  'uvIndex': 0,\n",
       "  'visibility': 15.815,\n",
       "  'ozone': 287.2},\n",
       " 'daily': {'data': [{'time': 1559354400,\n",
       "    'summary': 'Possible light snow (1–3 cm.) overnight.',\n",
       "    'icon': 'snow',\n",
       "    'sunriseTime': 1559389560,\n",
       "    'sunsetTime': 1559406540,\n",
       "    'moonPhase': 0.95,\n",
       "    'precipIntensity': 0.0198,\n",
       "    'precipIntensityMax': 0.0724,\n",
       "    'precipIntensityMaxTime': 1559431980,\n",
       "    'precipProbability': 0.52,\n",
       "    'precipType': 'snow',\n",
       "    'precipAccumulation': 1.5,\n",
       "    'temperatureHigh': -16.55,\n",
       "    'temperatureHighTime': 1559379600,\n",
       "    'temperatureLow': -18.85,\n",
       "    'temperatureLowTime': 1559434320,\n",
       "    'apparentTemperatureHigh': -30.47,\n",
       "    'apparentTemperatureHighTime': 1559379600,\n",
       "    'apparentTemperatureLow': -33.69,\n",
       "    'apparentTemperatureLowTime': 1559422800,\n",
       "    'dewPoint': -32.73,\n",
       "    'humidity': 0.26,\n",
       "    'pressure': 981.9,\n",
       "    'windSpeed': 46.59,\n",
       "    'windGust': 61.76,\n",
       "    'windGustTime': 1559386080,\n",
       "    'windBearing': 218,\n",
       "    'cloudCover': 0.99,\n",
       "    'uvIndex': 0,\n",
       "    'uvIndexTime': 1559397720,\n",
       "    'visibility': 16.038,\n",
       "    'ozone': 301.4,\n",
       "    'temperatureMin': -21.58,\n",
       "    'temperatureMinTime': 1559405400,\n",
       "    'temperatureMax': -13.48,\n",
       "    'temperatureMaxTime': 1559354400,\n",
       "    'apparentTemperatureMin': -37.15,\n",
       "    'apparentTemperatureMinTime': 1559405100,\n",
       "    'apparentTemperatureMax': -26.12,\n",
       "    'apparentTemperatureMaxTime': 1559354400}]},\n",
       " 'offset': -2}"
      ]
     },
     "execution_count": 6,
     "metadata": {},
     "output_type": "execute_result"
    }
   ],
   "source": [
    "data"
   ]
  },
  {
   "cell_type": "code",
   "execution_count": 8,
   "metadata": {
    "ExecuteTime": {
     "end_time": "2020-07-28T01:18:18.174442Z",
     "start_time": "2020-07-28T01:18:18.168502Z"
    }
   },
   "outputs": [],
   "source": [
    "latitude = data['latitude']\n",
    "longitude = data['longitude']"
   ]
  },
  {
   "cell_type": "code",
   "execution_count": 9,
   "metadata": {
    "ExecuteTime": {
     "end_time": "2020-07-28T01:18:22.527188Z",
     "start_time": "2020-07-28T01:18:22.522204Z"
    }
   },
   "outputs": [
    {
     "data": {
      "text/plain": [
       "-64.533333"
      ]
     },
     "execution_count": 9,
     "metadata": {},
     "output_type": "execute_result"
    }
   ],
   "source": [
    "latitude"
   ]
  },
  {
   "cell_type": "code",
   "execution_count": 10,
   "metadata": {
    "ExecuteTime": {
     "end_time": "2020-07-28T01:18:25.247909Z",
     "start_time": "2020-07-28T01:18:25.241649Z"
    }
   },
   "outputs": [
    {
     "data": {
      "text/plain": [
       "-32.066667"
      ]
     },
     "execution_count": 10,
     "metadata": {},
     "output_type": "execute_result"
    }
   ],
   "source": [
    "longitude"
   ]
  },
  {
   "cell_type": "code",
   "execution_count": 11,
   "metadata": {
    "ExecuteTime": {
     "end_time": "2020-07-28T01:18:32.797618Z",
     "start_time": "2020-07-28T01:18:32.793297Z"
    }
   },
   "outputs": [
    {
     "data": {
      "text/plain": [
       "0.26"
      ]
     },
     "execution_count": 11,
     "metadata": {},
     "output_type": "execute_result"
    }
   ],
   "source": [
    "humidity = data[\"daily\"][\"data\"][0][\"humidity\"]\n",
    "humidity"
   ]
  },
  {
   "cell_type": "markdown",
   "metadata": {},
   "source": [
    "## Ayuda Parte 2"
   ]
  },
  {
   "cell_type": "code",
   "execution_count": 14,
   "metadata": {
    "ExecuteTime": {
     "end_time": "2020-07-28T01:20:59.786103Z",
     "start_time": "2020-07-28T01:20:59.783214Z"
    }
   },
   "outputs": [],
   "source": [
    "#!pip3 install requests bs4"
   ]
  },
  {
   "cell_type": "code",
   "execution_count": 15,
   "metadata": {
    "ExecuteTime": {
     "end_time": "2020-07-28T01:21:30.306289Z",
     "start_time": "2020-07-28T01:21:29.528998Z"
    }
   },
   "outputs": [],
   "source": [
    "from bs4 import BeautifulSoup as bs\n",
    "import requests\n",
    "#from datetime import datetime, timedelta\n",
    "from urllib.request import urlopen\n",
    "import datetime\n",
    "import pandas as pd"
   ]
  },
  {
   "cell_type": "code",
   "execution_count": 16,
   "metadata": {
    "ExecuteTime": {
     "end_time": "2020-07-28T01:21:38.793031Z",
     "start_time": "2020-07-28T01:21:38.787757Z"
    }
   },
   "outputs": [],
   "source": [
    "# This function returns a list of date between to boundaries. Source: https://stackoverflow.com/questions/1060279/iterating-through-a-range-of-dates-in-python\n",
    "def daterange(start_date, end_date):\n",
    "    for n in range(int ((end_date - start_date).days)):\n",
    "        yield start_date + datetime.timedelta(n)"
   ]
  },
  {
   "cell_type": "code",
   "execution_count": 17,
   "metadata": {
    "ExecuteTime": {
     "end_time": "2020-07-28T01:21:55.315106Z",
     "start_time": "2020-07-28T01:21:55.311521Z"
    }
   },
   "outputs": [],
   "source": [
    "stations = [\"ICALAMUC5\"]\n",
    "start_date = datetime.date(2018, 9, 1)\n",
    "end_date = datetime.date(2018, 9, 10) #Esta fecha no es incluida\n",
    "rango = 'daily'\n",
    "\n",
    "baseUrl = 'https://www.wunderground.com/dashboard/pws/<station>/table/<date>/<date>/daily'"
   ]
  },
  {
   "cell_type": "code",
   "execution_count": 18,
   "metadata": {
    "ExecuteTime": {
     "end_time": "2020-07-28T01:22:50.259252Z",
     "start_time": "2020-07-28T01:21:58.570434Z"
    }
   },
   "outputs": [
    {
     "name": "stdout",
     "output_type": "stream",
     "text": [
      "ICALAMUC5\n",
      "<Response [200]>\n",
      "2018-09-01\n",
      "Hay datos 2018-09-01 ICALAMUC5\n",
      "2018-09-01\n",
      "2018-09-02\n",
      "2018-09-03\n",
      "2018-09-04\n",
      "2018-09-05\n",
      "2018-09-06\n",
      "2018-09-07\n",
      "2018-09-08\n",
      "2018-09-09\n"
     ]
    }
   ],
   "source": [
    "tab_exist = 0\n",
    "#stations_temp = []\n",
    "  \n",
    "for station in stations:\n",
    "    print(station)\n",
    "    for date in daterange(start_date, end_date):\n",
    "        url = baseUrl.replace(\"<date>\", date.strftime(\"%Y-%m-%d\")).replace(\"<station>\", station)\n",
    "        page = bs(requests.get(url).content)\n",
    "        response = requests.get(url)\n",
    "        #if response != 200:\n",
    "        #print(response)\n",
    "        tabla = page.find('table', attrs={'class':'history-table desktop-table'})\n",
    "    \n",
    "        if tab_exist == 0:                \n",
    "      \n",
    "        print(response)\n",
    "        print(date)\n",
    "        #exist = 0\n",
    "      \n",
    "        if tabla:\n",
    "            print('Hay datos', date, station)\n",
    "            tab_exist = 1\n",
    "            #Creo lista con el nombre de las columnas\n",
    "            list_html = tabla.find_all('th')\n",
    "            #lista con las unidades\n",
    "            list_unid = ['','C','C','%','','km/h','km/h','hPa','mm','mm','','']\n",
    "            list_col = []\n",
    "            for i in list_html:\n",
    "                col_temp = i.string\n",
    "                list_col.append(col_temp)\n",
    "            for j in range(len(list_col)):\n",
    "                if list_unid[j]:          \n",
    "                    list_col[j] = list_col[j] + '[' + list_unid[j] + ']'\n",
    "                    #list_col[j] = list_col[j].strip('()')\n",
    "            \n",
    "            df_wu = pd.DataFrame(columns = list_col)\n",
    "        \n",
    "        if tab_exist == 1:    #Entra acá cuando ya se creo la lista con los parametros\n",
    "            print(date)\n",
    "            #Entra acá cuando ya se creo la lista\n",
    "            if response.status_code == 200:\n",
    "                if tabla:\n",
    "                    m = tabla.tbody.find_all('tr')\n",
    "                    m_val = []\n",
    "                    for i in m:\n",
    "                        list_temp = []\n",
    "                        l_html = i.find_all('td')\n",
    "                            for j in range(0,len(l_html)): \n",
    "                                if j == 0:\n",
    "                                    list_temp.append(date.strftime(\"%Y-%m-%d\") +' '+ l_html[j].string)            \n",
    "                                elif j == 4 or j == 10 or j == 11: \n",
    "                                    list_temp.append(l_html[j].string) \n",
    "                                else:\n",
    "                                    list_temp.append(l_html[j].span.span.string)\n",
    "                                m_val.append(list_temp) #Matriz con los valores\n",
    "                          \n",
    "                            df_temp = pd.DataFrame(m_val, columns=list_col)  #Transformo la matriz en un DataFrame\n",
    "      \n",
    "                            #df_temp.rename(columns={0:'Time'})\n",
    "                            #for i in range(0,len(m_val[0])):\n",
    "                            #df_temp.rename(columns={i:list_col[i]}, inplace=True)\n",
    "                            df_temp['Station'] = station\n",
    "                            df_temp['Date'] = date\n",
    "                            df_wu =pd.concat([df_wu,df_temp], axis=0)\n",
    "            else:\n",
    "                print(respose)\n",
    "        "
   ]
  },
  {
   "cell_type": "code",
   "execution_count": 39,
   "metadata": {},
   "outputs": [
    {
     "data": {
      "text/html": [
       "<div>\n",
       "<style scoped>\n",
       "    .dataframe tbody tr th:only-of-type {\n",
       "        vertical-align: middle;\n",
       "    }\n",
       "\n",
       "    .dataframe tbody tr th {\n",
       "        vertical-align: top;\n",
       "    }\n",
       "\n",
       "    .dataframe thead th {\n",
       "        text-align: right;\n",
       "    }\n",
       "</style>\n",
       "<table border=\"1\" class=\"dataframe\">\n",
       "  <thead>\n",
       "    <tr style=\"text-align: right;\">\n",
       "      <th></th>\n",
       "      <th>Date</th>\n",
       "      <th>Dew Point[C]</th>\n",
       "      <th>Gust[km/h]</th>\n",
       "      <th>Humidity[%]</th>\n",
       "      <th>Precip. Accum.[mm]</th>\n",
       "      <th>Precip. Rate.[mm]</th>\n",
       "      <th>Pressure[hPa]</th>\n",
       "      <th>Solar</th>\n",
       "      <th>Speed[km/h]</th>\n",
       "      <th>Station</th>\n",
       "      <th>Temperature[C]</th>\n",
       "      <th>Time</th>\n",
       "      <th>UV</th>\n",
       "      <th>Wind</th>\n",
       "    </tr>\n",
       "  </thead>\n",
       "  <tbody>\n",
       "    <tr>\n",
       "      <th>0</th>\n",
       "      <td>2018-09-01</td>\n",
       "      <td>29.8</td>\n",
       "      <td>0.0</td>\n",
       "      <td>83</td>\n",
       "      <td>0.08</td>\n",
       "      <td>--</td>\n",
       "      <td>30.01</td>\n",
       "      <td>None</td>\n",
       "      <td>0.0</td>\n",
       "      <td>ICALAMUC5</td>\n",
       "      <td>34.5</td>\n",
       "      <td>2018-09-01 10:03 PM</td>\n",
       "      <td>None</td>\n",
       "      <td>North</td>\n",
       "    </tr>\n",
       "    <tr>\n",
       "      <th>1</th>\n",
       "      <td>2018-09-01</td>\n",
       "      <td>29.9</td>\n",
       "      <td>0.0</td>\n",
       "      <td>84</td>\n",
       "      <td>0.08</td>\n",
       "      <td>--</td>\n",
       "      <td>30.01</td>\n",
       "      <td>None</td>\n",
       "      <td>0.0</td>\n",
       "      <td>ICALAMUC5</td>\n",
       "      <td>34.3</td>\n",
       "      <td>2018-09-01 10:09 PM</td>\n",
       "      <td>None</td>\n",
       "      <td>North</td>\n",
       "    </tr>\n",
       "    <tr>\n",
       "      <th>2</th>\n",
       "      <td>2018-09-01</td>\n",
       "      <td>30.0</td>\n",
       "      <td>0.6</td>\n",
       "      <td>84</td>\n",
       "      <td>0.08</td>\n",
       "      <td>--</td>\n",
       "      <td>30.01</td>\n",
       "      <td>None</td>\n",
       "      <td>0.0</td>\n",
       "      <td>ICALAMUC5</td>\n",
       "      <td>34.3</td>\n",
       "      <td>2018-09-01 10:14 PM</td>\n",
       "      <td>None</td>\n",
       "      <td>NNE</td>\n",
       "    </tr>\n",
       "    <tr>\n",
       "      <th>3</th>\n",
       "      <td>2018-09-01</td>\n",
       "      <td>30.3</td>\n",
       "      <td>0.7</td>\n",
       "      <td>85</td>\n",
       "      <td>0.08</td>\n",
       "      <td>--</td>\n",
       "      <td>30.01</td>\n",
       "      <td>None</td>\n",
       "      <td>0.0</td>\n",
       "      <td>ICALAMUC5</td>\n",
       "      <td>34.3</td>\n",
       "      <td>2018-09-01 10:19 PM</td>\n",
       "      <td>None</td>\n",
       "      <td>NW</td>\n",
       "    </tr>\n",
       "    <tr>\n",
       "      <th>4</th>\n",
       "      <td>2018-09-01</td>\n",
       "      <td>30.5</td>\n",
       "      <td>0.0</td>\n",
       "      <td>85</td>\n",
       "      <td>0.08</td>\n",
       "      <td>--</td>\n",
       "      <td>30.01</td>\n",
       "      <td>None</td>\n",
       "      <td>0.0</td>\n",
       "      <td>ICALAMUC5</td>\n",
       "      <td>34.4</td>\n",
       "      <td>2018-09-01 10:24 PM</td>\n",
       "      <td>None</td>\n",
       "      <td>NW</td>\n",
       "    </tr>\n",
       "    <tr>\n",
       "      <th>...</th>\n",
       "      <td>...</td>\n",
       "      <td>...</td>\n",
       "      <td>...</td>\n",
       "      <td>...</td>\n",
       "      <td>...</td>\n",
       "      <td>...</td>\n",
       "      <td>...</td>\n",
       "      <td>...</td>\n",
       "      <td>...</td>\n",
       "      <td>...</td>\n",
       "      <td>...</td>\n",
       "      <td>...</td>\n",
       "      <td>...</td>\n",
       "      <td>...</td>\n",
       "    </tr>\n",
       "    <tr>\n",
       "      <th>283</th>\n",
       "      <td>2018-09-09</td>\n",
       "      <td>46.9</td>\n",
       "      <td>3.5</td>\n",
       "      <td>54</td>\n",
       "      <td>0.00</td>\n",
       "      <td>--</td>\n",
       "      <td>29.88</td>\n",
       "      <td>None</td>\n",
       "      <td>2.7</td>\n",
       "      <td>ICALAMUC5</td>\n",
       "      <td>63.9</td>\n",
       "      <td>2018-09-09 11:39 PM</td>\n",
       "      <td>None</td>\n",
       "      <td>North</td>\n",
       "    </tr>\n",
       "    <tr>\n",
       "      <th>284</th>\n",
       "      <td>2018-09-09</td>\n",
       "      <td>46.9</td>\n",
       "      <td>3.6</td>\n",
       "      <td>54</td>\n",
       "      <td>0.00</td>\n",
       "      <td>--</td>\n",
       "      <td>29.89</td>\n",
       "      <td>None</td>\n",
       "      <td>2.6</td>\n",
       "      <td>ICALAMUC5</td>\n",
       "      <td>63.9</td>\n",
       "      <td>2018-09-09 11:44 PM</td>\n",
       "      <td>None</td>\n",
       "      <td>NW</td>\n",
       "    </tr>\n",
       "    <tr>\n",
       "      <th>285</th>\n",
       "      <td>2018-09-09</td>\n",
       "      <td>46.9</td>\n",
       "      <td>4.3</td>\n",
       "      <td>54</td>\n",
       "      <td>0.00</td>\n",
       "      <td>--</td>\n",
       "      <td>29.89</td>\n",
       "      <td>None</td>\n",
       "      <td>2.7</td>\n",
       "      <td>ICALAMUC5</td>\n",
       "      <td>63.9</td>\n",
       "      <td>2018-09-09 11:49 PM</td>\n",
       "      <td>None</td>\n",
       "      <td>NW</td>\n",
       "    </tr>\n",
       "    <tr>\n",
       "      <th>286</th>\n",
       "      <td>2018-09-09</td>\n",
       "      <td>46.9</td>\n",
       "      <td>4.1</td>\n",
       "      <td>54</td>\n",
       "      <td>0.00</td>\n",
       "      <td>--</td>\n",
       "      <td>29.89</td>\n",
       "      <td>None</td>\n",
       "      <td>2.8</td>\n",
       "      <td>ICALAMUC5</td>\n",
       "      <td>63.9</td>\n",
       "      <td>2018-09-09 11:54 PM</td>\n",
       "      <td>None</td>\n",
       "      <td>NW</td>\n",
       "    </tr>\n",
       "    <tr>\n",
       "      <th>287</th>\n",
       "      <td>2018-09-09</td>\n",
       "      <td>46.9</td>\n",
       "      <td>3.8</td>\n",
       "      <td>54</td>\n",
       "      <td>0.00</td>\n",
       "      <td>--</td>\n",
       "      <td>29.89</td>\n",
       "      <td>None</td>\n",
       "      <td>2.3</td>\n",
       "      <td>ICALAMUC5</td>\n",
       "      <td>63.8</td>\n",
       "      <td>2018-09-09 11:59 PM</td>\n",
       "      <td>None</td>\n",
       "      <td>None</td>\n",
       "    </tr>\n",
       "  </tbody>\n",
       "</table>\n",
       "<p>1802 rows × 14 columns</p>\n",
       "</div>"
      ],
      "text/plain": [
       "           Date Dew Point[C] Gust[km/h] Humidity[%] Precip. Accum.[mm]  \\\n",
       "0    2018-09-01         29.8        0.0          83               0.08   \n",
       "1    2018-09-01         29.9        0.0          84               0.08   \n",
       "2    2018-09-01         30.0        0.6          84               0.08   \n",
       "3    2018-09-01         30.3        0.7          85               0.08   \n",
       "4    2018-09-01         30.5        0.0          85               0.08   \n",
       "..          ...          ...        ...         ...                ...   \n",
       "283  2018-09-09         46.9        3.5          54               0.00   \n",
       "284  2018-09-09         46.9        3.6          54               0.00   \n",
       "285  2018-09-09         46.9        4.3          54               0.00   \n",
       "286  2018-09-09         46.9        4.1          54               0.00   \n",
       "287  2018-09-09         46.9        3.8          54               0.00   \n",
       "\n",
       "    Precip. Rate.[mm] Pressure[hPa] Solar Speed[km/h]    Station  \\\n",
       "0                  --         30.01  None         0.0  ICALAMUC5   \n",
       "1                  --         30.01  None         0.0  ICALAMUC5   \n",
       "2                  --         30.01  None         0.0  ICALAMUC5   \n",
       "3                  --         30.01  None         0.0  ICALAMUC5   \n",
       "4                  --         30.01  None         0.0  ICALAMUC5   \n",
       "..                ...           ...   ...         ...        ...   \n",
       "283                --         29.88  None         2.7  ICALAMUC5   \n",
       "284                --         29.89  None         2.6  ICALAMUC5   \n",
       "285                --         29.89  None         2.7  ICALAMUC5   \n",
       "286                --         29.89  None         2.8  ICALAMUC5   \n",
       "287                --         29.89  None         2.3  ICALAMUC5   \n",
       "\n",
       "    Temperature[C]                 Time    UV   Wind  \n",
       "0             34.5  2018-09-01 10:03 PM  None  North  \n",
       "1             34.3  2018-09-01 10:09 PM  None  North  \n",
       "2             34.3  2018-09-01 10:14 PM  None    NNE  \n",
       "3             34.3  2018-09-01 10:19 PM  None     NW  \n",
       "4             34.4  2018-09-01 10:24 PM  None     NW  \n",
       "..             ...                  ...   ...    ...  \n",
       "283           63.9  2018-09-09 11:39 PM  None  North  \n",
       "284           63.9  2018-09-09 11:44 PM  None     NW  \n",
       "285           63.9  2018-09-09 11:49 PM  None     NW  \n",
       "286           63.9  2018-09-09 11:54 PM  None     NW  \n",
       "287           63.8  2018-09-09 11:59 PM  None   None  \n",
       "\n",
       "[1802 rows x 14 columns]"
      ]
     },
     "execution_count": 39,
     "metadata": {},
     "output_type": "execute_result"
    }
   ],
   "source": [
    "df_wu"
   ]
  },
  {
   "cell_type": "code",
   "execution_count": null,
   "metadata": {},
   "outputs": [],
   "source": []
  },
  {
   "cell_type": "code",
   "execution_count": null,
   "metadata": {},
   "outputs": [],
   "source": []
  }
 ],
 "metadata": {
  "kernelspec": {
   "display_name": "Python 3",
   "language": "python",
   "name": "python3"
  },
  "language_info": {
   "codemirror_mode": {
    "name": "ipython",
    "version": 3
   },
   "file_extension": ".py",
   "mimetype": "text/x-python",
   "name": "python",
   "nbconvert_exporter": "python",
   "pygments_lexer": "ipython3",
   "version": "3.6.10"
  }
 },
 "nbformat": 4,
 "nbformat_minor": 2
}
